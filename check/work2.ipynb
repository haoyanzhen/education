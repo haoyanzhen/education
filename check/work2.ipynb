{
 "cells": [
  {
   "cell_type": "markdown",
   "metadata": {},
   "source": [
    "创建、修改和保存fits文件"
   ]
  },
  {
   "cell_type": "code",
   "execution_count": 1,
   "metadata": {},
   "outputs": [],
   "source": [
    "from astropy.io import fits\n",
    "from datetime import datetime\n",
    "primaryhdul = fits.PrimaryHDU()\n",
    "primaryhdul.header['DATA'] = datetime.now().strftime('%Y-%m-%dT%H:%M:%S')\n",
    "primaryhdul.header['CREATOR'] = 'LWG'\n",
    "import numpy as np\n",
    "data = np.random.random((100,100))\n",
    "imagehdul = fits.ImageHDU(data)\n",
    "hdul = fits.HDUList([primaryhdul, imagehdul])\n",
    "hdul.writeto('work2.fits', overwrite=True)"
   ]
  },
  {
   "cell_type": "code",
   "execution_count": null,
   "metadata": {},
   "outputs": [],
   "source": [
    "# nice！\n",
    "# do you know what is hdul?\n",
    "# hdul = HDU list\n",
    "# so one hdu we just name it as ***hdu, for example: primaryhdu or imagehdu, no 'l' at last.\n",
    "\n",
    "# one more small problem. Do you mean \"DATE\" in header rather than \"DATA\"?"
   ]
  },
  {
   "cell_type": "markdown",
   "metadata": {},
   "source": [
    "将其图像数据改为原来的对数，并存入重新命名的fits文件"
   ]
  },
  {
   "cell_type": "code",
   "execution_count": 49,
   "metadata": {},
   "outputs": [],
   "source": [
    "import numpy as np\n",
    "filename = fits.util.get_testdata_filepath('test0.fits')\n",
    "with fits.open(filename, memmap=True) as hdulist1:\n",
    "    imagedata = hdulist1[1].data\n",
    "    logdata = np.log(imagedata)\n",
    "imagehdul1 = fits.ImageHDU(logdata)\n",
    "hdul1 = fits.HDUList([fits.PrimaryHDU(),imagehdul1])\n",
    "hdul1.writeto('fits2.fits', overwrite=True)"
   ]
  },
  {
   "cell_type": "code",
   "execution_count": null,
   "metadata": {},
   "outputs": [],
   "source": [
    "# nice！\n",
    "# but lost imformation in other hdu and lost imformation of hdul[1].header\n",
    "# Following is a better way:\n",
    "import numpy as np\n",
    "filename = fits.util.get_testdata_filepath('test0.fits')\n",
    "with fits.open(filename, memmap=True) as hdulist1:\n",
    "    imghdu = hdulist1[1]\n",
    "    imghdu.data = np.log(imghdu.data)\n",
    "    hdulist1.writeto('fits2.fits', overwrite=True)\n"
   ]
  },
  {
   "cell_type": "markdown",
   "metadata": {},
   "source": [
    "新建一个Image HDU并直接将其存为fits文件"
   ]
  },
  {
   "cell_type": "code",
   "execution_count": null,
   "metadata": {},
   "outputs": [],
   "source": [
    "data = np.random.random((100,100))\n",
    "Image_HDU = fits.ImageHDU(data)\n",
    "new_fits = fits.HDUList([fits.PrimaryHDU(),Image_HDU])\n",
    "new_fits.writeto('fits2', overwrite=True)"
   ]
  },
  {
   "cell_type": "code",
   "execution_count": null,
   "metadata": {},
   "outputs": [],
   "source": [
    "# wrong!\n",
    "# just use one hdu to save as a file, not hdul. Confusion of hdu and hdul caused this mistake.\n",
    "# this practice aims to simplify operation of saving fits file\n",
    "# a correct version can be referenced as following:\n",
    "imghdu = fits.ImageHDU(np.random.rand(100,100))\n",
    "imghdu.writeto('fits2', overwrite=True)"
   ]
  },
  {
   "cell_type": "markdown",
   "metadata": {},
   "source": [
    "读取整个fits文件，并输出所有储存的内容"
   ]
  },
  {
   "cell_type": "code",
   "execution_count": null,
   "metadata": {},
   "outputs": [],
   "source": [
    "from astropy.io import fits\n",
    "filename = fits.util.get_testdata_filepath('test0.fits')\n",
    "hdul = fits.open(filename)\n",
    "hdul.info()\n",
    "for hdu in hdul:\n",
    "    print(hdu.header)\n",
    "    print(hdu.data)\n",
    "hdul.close()"
   ]
  },
  {
   "cell_type": "code",
   "execution_count": null,
   "metadata": {},
   "outputs": [],
   "source": [
    "# nice!\n",
    "# remember to print(hdul.info()) to show as text."
   ]
  },
  {
   "cell_type": "markdown",
   "metadata": {},
   "source": [
    "在不载入整个fits文件的情况下，读取某个fits文件的某个头文件或某个data"
   ]
  },
  {
   "cell_type": "code",
   "execution_count": null,
   "metadata": {},
   "outputs": [],
   "source": [
    "with fits.open(filename, memmap=True) as hdul:\n",
    "    header = hdul[0].header\n",
    "    print(header)\n",
    "    data = hdul[1].data\n",
    "    print(data)"
   ]
  },
  {
   "cell_type": "code",
   "execution_count": null,
   "metadata": {},
   "outputs": [],
   "source": [
    "# wrong!\n",
    "# with no loading of whole file!\n",
    "# memmap means not load whole data at one time. But it also load the whole file.\n",
    "# this practice aims to simplify operation of reading fits, and decrease memory usage\n",
    "# a correct version can be referenced as following:\n",
    "data, hdr = fits.getdata(filename, header=True, ext=1)\n",
    "\n",
    "# or:\n",
    "data = fits.getdata(filename, ext=1)\n",
    "hdr = fits.getheader(filename, ext=0)\n",
    "time = fits.getval(filename, 'OBSTIME', ext=0)"
   ]
  },
  {
   "cell_type": "markdown",
   "metadata": {},
   "source": [
    "## 总评\n",
    "\n",
    "总体任务基本完成，不错！\n",
    "基本操作看起来已经熟练，能够完成fits文件读写的全流程。细节的地方还不到位，比如单hdu写入文件，或者不读取整个文件时取出部分信息。\n",
    "\n",
    "附： 下一个学习项目可能要过段时间布置。"
   ]
  }
 ],
 "metadata": {
  "kernelspec": {
   "display_name": ".venv",
   "language": "python",
   "name": "python3"
  },
  "language_info": {
   "codemirror_mode": {
    "name": "ipython",
    "version": 3
   },
   "file_extension": ".py",
   "mimetype": "text/x-python",
   "name": "python",
   "nbconvert_exporter": "python",
   "pygments_lexer": "ipython3",
   "version": "3.12.4"
  }
 },
 "nbformat": 4,
 "nbformat_minor": 2
}
