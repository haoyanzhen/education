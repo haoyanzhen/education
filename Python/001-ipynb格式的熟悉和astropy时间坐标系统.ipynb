{
 "cells": [
  {
   "cell_type": "markdown",
   "metadata": {},
   "source": [
    "# 0. .ipynb的熟悉和astropy时间坐标系统\n",
    "\n",
    "Author: haoyanzhen\n",
    "Date:   2024-06-29 至 2024-07-06\n",
    "\n",
    "由于`jupyter notebook`是一个功能非常强大的编程格式，其优势见下：\n",
    "\n",
    "1. 交互式编程环境:可以边写代码边运行,快速验证想法。\n",
    "2. 混合内容:可以在一个文档中混合代码、文本说明、图表等多种内容。\n",
    "3. 易于分享:可以方便地与他人分享完整的分析过程和结果。\n",
    "4. 支持多种编程语言:除Python外,还支持R、Julia等多种语言。\n",
    "5. 丰富的扩展生态:有大量插件可以增强功能。\n",
    "6. 数据可视化:内置多种图表工具,方便数据展示。\n",
    "\n",
    "因此，以后学习任务的成果提交主要采取`.ipynb`格式。为了与之搭配，建议你采用`vscode`作为编程IDE。vscode的优势如下：\n",
    "\n",
    "1. 轻量级:VS Code启动更快,占用系统资源更少。\n",
    "2. 免费开源:VS Code完全免费,而PyCharm的完整版需要付费。\n",
    "3. 扩展性强:拥有庞大的插件生态系统,可以高度定制。\n",
    "4. 多语言支持:不仅支持Python,还可以轻松处理其他编程语言。\n",
    "5. 集成终端:内置终端使命令行操作更方便。\n",
    "6. Git集成:提供优秀的Git版本控制支持。\n",
    "7. 远程开发:可以方便地进行远程开发和协作。\n",
    "8. 更新频繁:微软频繁更新,持续改进功能和性能。\n",
    "9. 跨平台:在Windows、macOS和Linux上都能很好地运行。\n",
    "\n",
    "`.ipynb`主要有两种单元格，一种是程序，另一种是`markdown`，即一种基于`HTML语言`简化而成的笔记语言。感兴趣可以学一下markdown格式的所有写法，大概10条左右。\n",
    "\n",
    "`astropy`包中主要包含时间、坐标系统的转换，fits文件的操作，单位的计算，wcs的计算和坐标系转换、宇宙学和恒星物理等。其中天体测量当中主要需要了解：\n",
    "\n",
    "- 时间坐标系统转换\n",
    "- fits文件操作\n",
    "- wcs\n",
    "\n",
    "本次成果提交一份包含时间坐标系统转换的`.ipynb`文件。"
   ]
  },
  {
   "cell_type": "markdown",
   "metadata": {},
   "source": [
    "## 学习目录\n",
    "\n",
    "1. 需要下载的软件： vscode （注意，在vscode下载之后，还需要在插件一栏里安装python和jupyter的插件，并在运行环境下下载ipykernel包。推荐使用虚拟环境。）\n",
    "2. 需要掌握的文件格式： .ipynb\n",
    "3. 需要学习的编程功能： \n",
    "   1. 创建astropy的坐标和时间类，输出其主要属性。\n",
    "   2. 基于任意的天球坐标，将其转到特定的地球坐标系中；基于代码运行时的时间，将其转为不同的时间体系，与不同的格式，并与任意的时长进行加减运算。\n",
    "4. 兴趣扩展：\n",
    "   1. markdown格式笔记\n",
    "   2. vscode的各种插件\n",
    "   3. 虚拟环境的普通命令行创建方法和anaconda的命令行创建方法\n",
    "   4. `Time`包， 将时间输出为任意指定字符串的方式"
   ]
  },
  {
   "cell_type": "code",
   "execution_count": 1,
   "metadata": {},
   "outputs": [],
   "source": [
    "import astropy"
   ]
  },
  {
   "cell_type": "code",
   "execution_count": null,
   "metadata": {},
   "outputs": [],
   "source": [
    "astropy.time.Time()\n",
    "astropy.coordinates.SkyCoord()"
   ]
  }
 ],
 "metadata": {
  "kernelspec": {
   "display_name": "photo",
   "language": "python",
   "name": "python3"
  },
  "language_info": {
   "codemirror_mode": {
    "name": "ipython",
    "version": 3
   },
   "file_extension": ".py",
   "mimetype": "text/x-python",
   "name": "python",
   "nbconvert_exporter": "python",
   "pygments_lexer": "ipython3",
   "version": "3.10.7"
  }
 },
 "nbformat": 4,
 "nbformat_minor": 2
}
