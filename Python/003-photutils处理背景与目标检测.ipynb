{
 "cells": [
  {
   "cell_type": "markdown",
   "metadata": {},
   "source": [
    "# 使用photutils进行简单的背景扣除和目标探测\n",
    "\n",
    "Author: haoyanzhen <br>\n",
    "Date:   2024-08-08 至 2024-08-18\n",
    "\n",
    "## 上一期的补充\n",
    "\n",
    "上一期的目标基本完成，细节还有所欠缺，不过慢慢锻炼即可。之前未完成的项目补充如下：\n",
    "- 注意继续学习实验git的用法和github同步功能\n",
    "- 用astropy的Time类进行加减计算\n",
    "- 定义一个Coordinate类的位置、时间、自行，计算其十年后的位置\n",
    "第三条涉及到天体测量一些基本概念，可以查阅资料了解，也欢迎找我讨论。\n",
    "\n",
    "## 学习目录\n",
    "\n",
    "1. 需要熟悉的软件： ds9, git, astropy, photutils\n",
    "   - 使用ds9完成放大、缩小、改变中心点位置、调节颜色映射、拉一个projection线段查看线段上的强度分布。以截图的形式放在提交的ipynb文件里。\n",
    "   - 使用git完成上传和下载操作。结果提交到github上即可。\n",
    "   - astropy的进一步读写操作，不要求展示。\n",
    "   - photutils的学习目标见下\n",
    "2. 需要学习的编程技能：\n",
    "   - 使用photutils实验几幅图像的背景估计\n",
    "     - 取不同的统计量\n",
    "     - mask操作\n",
    "   - 使用photutils实验几幅图像的目标检测\n",
    "3. 兴趣扩展：\n",
    "   此模块尽量不重合，过往的兴趣扩展可以查看往期的学习文件。\n",
    "   - photutils的背景估计原理\n",
    "   - SExtractor的背景估计原理\n",
    "   - photutils的目标检测原理"
   ]
  }
 ],
 "metadata": {
  "language_info": {
   "name": "python"
  }
 },
 "nbformat": 4,
 "nbformat_minor": 2
}
