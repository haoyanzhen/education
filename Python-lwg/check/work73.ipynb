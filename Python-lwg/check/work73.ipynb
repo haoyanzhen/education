{
 "cells": [
  {
   "cell_type": "code",
   "execution_count": 1,
   "metadata": {},
   "outputs": [
    {
     "name": "stdout",
     "output_type": "stream",
     "text": [
      "文件中包含的 HDU 数量: 1\n"
     ]
    }
   ],
   "source": [
    "from astropy.io import fits\n",
    "\n",
    "file_path = r'D:\\AI\\docker_models\\Ubuntu-Sextractor\\config\\SH8902SHI61001.fits'\n",
    "with fits.open(file_path) as hdul:\n",
    "    print(f\"文件中包含的 HDU 数量: {len(hdul)}\")"
   ]
  },
  {
   "cell_type": "code",
   "execution_count": 2,
   "metadata": {},
   "outputs": [
    {
     "name": "stdout",
     "output_type": "stream",
     "text": [
      "CTYPE1: 未找到\n",
      "CTYPE2: 未找到\n",
      "CRVAL1: 未找到\n",
      "CRVAL2: 未找到\n",
      "CRPIX1: 未找到\n",
      "CRPIX2: 未找到\n",
      "CDELT1: 未找到\n",
      "CDELT2: 未找到\n"
     ]
    }
   ],
   "source": [
    "from astropy.io import fits\n",
    "\n",
    "file_path = r'D:\\AI\\docker_models\\Ubuntu-Sextractor\\config\\SH8902SHI61001.fits'\n",
    "with fits.open(file_path) as hdul:\n",
    "    header = hdul[0].header \n",
    "    for key in ['CTYPE1', 'CTYPE2', 'CRVAL1', 'CRVAL2', 'CRPIX1', 'CRPIX2', 'CDELT1', 'CDELT2']:\n",
    "        if key in header:\n",
    "            print(f\"{key}: {header[key]}\")\n",
    "        else:\n",
    "            print(f\"{key}: 未找到\")"
   ]
  },
  {
   "cell_type": "code",
   "execution_count": 3,
   "metadata": {},
   "outputs": [],
   "source": [
    "header['CTYPE1'] = 'RA---TAN'  \n",
    "header['CTYPE2'] = 'DEC--TAN'  \n",
    "header['CRVAL1'] = 180.0  \n",
    "header['CRVAL2'] = 0.0 \n",
    "header['CRPIX1'] = 10080.0 \n",
    "header['CRPIX2'] = 9300.0  \n",
    "header['CDELT1'] = -0.00027778 \n",
    "header['CDELT2'] = 0.00027778 "
   ]
  },
  {
   "cell_type": "code",
   "execution_count": 4,
   "metadata": {},
   "outputs": [
    {
     "name": "stdout",
     "output_type": "stream",
     "text": [
      "HDU 0:\n",
      "SIMPLE  =                    T /FITS STANDARD                                   BITPIX  =                   16 /FITS BITS/PIXEL                                 NAXIS   =                    2 /NUMBER OF AXES                                  NAXIS1  =                20160                                                  NAXIS2  =                18600                                                  OBSERVAT= 'Shao    '           / Observatory site                               TELESCOP= '156     '           / Same as APERTURE in centimeter                 SZ_PLA  = '-999    '           / Plate size in centimeter                       CD_PLA  = 'SHI61   '           / Plate number                                   QUA_PLA = '1       '           / Plate quality                                  OBJECT  = '-999    '           / Object                                         DATE_O  = '1989-10-31'         / Observation date                               START_O = '-999    '           / Beginning time of the first observation        STOP_O  = '-999    '           / End time of the first observation              EXP_O   = '-999    '           / Exposure time in seconds                       FILTER_O= '-999    '           / Same as FILTER                                 RA      = '-999    '           / RA of the center                               DEC     = '-999    '           / DEC of the center                              OBSERVER= '-999    '           / Observers                                      CD_S    = 'SHAO0   '           / Scanner code                                   START_S = '2016/12/05 18:09:11' / Beginning time of scanning in Beijing time    STOP_S  = '2016/12/05 18:14:52' / End time of scanning in Beijing time          BRI_S   = '785     '           / Scanner LED value                              TMP_S   =               -999.0 / Scanning environment temperature in centigrade HMD_S   =               -999.0 / Scanning environment humidity in percentage    SITE_S  = 'SheShan '           / Scanning site                                  STAFF_S = 'LG      '           / Scanning staffs                                FILENAME= 'SH8902SHI61001'     / Name of the fits file                          IMAGETYP= '-999    '           / Same as PLATETYP                               EPOCH   =               -999.0 / Julian reference frame equinox in year         COUNTRY = 'China   '           / Country from which the plate came              TELE_ID = '02      '           / Telescope code                                 FOCALEN =                15600 / Telescope focal length in millimeter           APERTURE=                  156 / Telescope aperture in centimeter               STA_PLA = '-999    '           / Plate status                                   TIMESYS = '-999    '           / Time system of observation                     MULTIEXP=                 -999 / Multi-exposure times                           DATE_B1 = '-999    '           / Beginning time of the first observation        DATE_E1 = '-999    '           / End time of the first observation              EXPO1   = '-999    '           / Exposure time of the first exposure in seconds PLATETYP= '-999    '           / Plate type                                     FILTER  = '-999    '           / Filter type                                    BAND    = '-999    '           / Spectral band                                  EXP_S   =               -999.0 / Exposure time of the scanning camera in secondsHISTORY =                                                                       HISTORY =                                                                       HISTORY =                                                                       HISTORY =                                                                       HISTORY =                                                                       END                                                                                                                                                                                                                                                                                                                                                                                                                                                                                                                                                                                                                                                                                                                                                                                                                                                                                                                                                                                                                                                                                                                                                                                                                                                                                                                                                                                                                                                                                                                                                                                                                                                                                                                                                                                                                                                                                                             \n"
     ]
    }
   ],
   "source": [
    "from astropy.io import fits\n",
    "\n",
    "file_path = r'D:\\AI\\docker_models\\Ubuntu-Sextractor\\config\\SH8902SHI61001.fits'\n",
    "with fits.open(file_path) as hdul:\n",
    "    for i, hdu in enumerate(hdul):\n",
    "        print(f\"HDU {i}:\")\n",
    "        print(hdu.header) "
   ]
  },
  {
   "cell_type": "code",
   "execution_count": 5,
   "metadata": {},
   "outputs": [
    {
     "name": "stdout",
     "output_type": "stream",
     "text": [
      "赤经范围: 177.202203 到 182.797519 度\n",
      "赤纬范围: -2.578256 到 2.578533 度\n"
     ]
    }
   ],
   "source": [
    "from astropy.io import fits\n",
    "from astropy.wcs import WCS\n",
    "\n",
    "file_path = r'D:\\AI\\docker_models\\Ubuntu-Sextractor\\config\\SH8902SHI61001.fits'\n",
    "\n",
    "with fits.open(file_path) as hdul:\n",
    "    data = hdul[0].data  \n",
    "    header = hdul[0].header \n",
    "\n",
    "    if 'CTYPE1' not in header:\n",
    "        header['CTYPE1'] = 'RA---TAN'  \n",
    "    if 'CTYPE2' not in header:\n",
    "        header['CTYPE2'] = 'DEC--TAN' \n",
    "    if 'CRVAL1' not in header:\n",
    "        header['CRVAL1'] = 180.0  \n",
    "    if 'CRVAL2' not in header:\n",
    "        header['CRVAL2'] = 0.0 \n",
    "    if 'CRPIX1' not in header:\n",
    "        header['CRPIX1'] = 10080.0  \n",
    "    if 'CRPIX2' not in header:\n",
    "        header['CRPIX2'] = 9300.0 \n",
    "    if 'CDELT1' not in header:\n",
    "        header['CDELT1'] = -0.00027778 \n",
    "    if 'CDELT2' not in header:\n",
    "        header['CDELT2'] = 0.00027778  \n",
    "\n",
    "    wcs = WCS(header)\n",
    "\n",
    "    naxis1 = header['NAXIS1'] \n",
    "    naxis2 = header['NAXIS2'] \n",
    "\n",
    "    corners_pixel = [\n",
    "        [0, 0],  \n",
    "        [naxis1 - 1, 0],  \n",
    "        [naxis1 - 1, naxis2 - 1], \n",
    "        [0, naxis2 - 1] \n",
    "    ]\n",
    "\n",
    "    corners_sky = wcs.all_pix2world(corners_pixel, 0)\n",
    "\n",
    "    ra_min = min(corners_sky[:, 0])\n",
    "    ra_max = max(corners_sky[:, 0])\n",
    "    dec_min = min(corners_sky[:, 1])\n",
    "    dec_max = max(corners_sky[:, 1])\n",
    "\n",
    "    print(f\"赤经范围: {ra_min:.6f} 到 {ra_max:.6f} 度\")\n",
    "    print(f\"赤纬范围: {dec_min:.6f} 到 {dec_max:.6f} 度\")"
   ]
  },
  {
   "cell_type": "code",
   "execution_count": 6,
   "metadata": {},
   "outputs": [
    {
     "name": "stdout",
     "output_type": "stream",
     "text": [
      "WCS 信息已补充并保存到 image_with_wcs_shao.fits\n"
     ]
    }
   ],
   "source": [
    "from astropy.io import fits\n",
    "from astropy.wcs import WCS\n",
    "\n",
    "fits_path = r'D:\\AI\\docker_models\\Ubuntu-Sextractor\\config\\SH8902SHI61001.fits'  \n",
    "with fits.open(fits_path) as hdul:\n",
    "    data = hdul[0].data  \n",
    "    header = hdul[0].header  \n",
    "\n",
    "header['CTYPE1'] = 'RA---TAN'  \n",
    "header['CTYPE2'] = 'DEC--TAN' \n",
    "header['CRVAL1'] = 180.0  \n",
    "header['CRVAL2'] = 0.0  \n",
    "header['CRPIX1'] = 10080.0 \n",
    "header['CRPIX2'] = 9300.0  \n",
    "header['CDELT1'] = -0.00027778  \n",
    "header['CDELT2'] = 0.00027778  \n",
    "\n",
    "wcs = WCS(header)\n",
    "\n",
    "header.update(wcs.to_header())\n",
    "\n",
    "new_fits_path = 'image_with_wcs_shao.fits'\n",
    "with fits.open(fits_path) as hdul:\n",
    "    hdul[0].header = header\n",
    "    hdul.writeto(new_fits_path, overwrite=True)\n",
    "print(f\"WCS 信息已补充并保存到 {new_fits_path}\")"
   ]
  },
  {
   "cell_type": "code",
   "execution_count": 7,
   "metadata": {},
   "outputs": [
    {
     "name": "stdout",
     "output_type": "stream",
     "text": [
      "文件已转换为 gaia_catalog_shao.csv\n"
     ]
    }
   ],
   "source": [
    "from astropy.io.votable import parse\n",
    "import pandas as pd\n",
    "\n",
    "vot_file_path = r'D:\\AI\\study1\\1736690136539O-result.vot\\1736690136539O-result.vot' \n",
    "csv_file_path = 'gaia_catalog_shao.csv' \n",
    "votable = parse(vot_file_path)\n",
    "\n",
    "table = votable.get_first_table()\n",
    "\n",
    "df = table.to_table().to_pandas()\n",
    "\n",
    "df.to_csv(csv_file_path, index=False)\n",
    "print(f\"文件已转换为 {csv_file_path}\")"
   ]
  },
  {
   "cell_type": "code",
   "execution_count": 8,
   "metadata": {},
   "outputs": [
    {
     "name": "stdout",
     "output_type": "stream",
     "text": [
      "CSV 文件列名: Index(['SOURCE_ID', 'ra', 'dec', 'parallax', 'pmra', 'pmdec',\n",
      "       'phot_g_mean_mag'],\n",
      "      dtype='object')\n",
      "赤经范围: 177.202234 到 182.797503 度\n",
      "赤纬范围: -2.578249 到 2.578418 度\n"
     ]
    }
   ],
   "source": [
    "import pandas as pd\n",
    "\n",
    "csv_file_path = 'gaia_catalog_shao.csv'  \n",
    "df = pd.read_csv(csv_file_path)\n",
    "\n",
    "print(\"CSV 文件列名:\", df.columns)\n",
    "\n",
    "ra_column = 'ra' \n",
    "dec_column = 'dec'  \n",
    "\n",
    "ra_min = df[ra_column].min()\n",
    "ra_max = df[ra_column].max()\n",
    "dec_min = df[dec_column].min()\n",
    "dec_max = df[dec_column].max()\n",
    "\n",
    "print(f\"赤经范围: {ra_min:.6f} 到 {ra_max:.6f} 度\")\n",
    "print(f\"赤纬范围: {dec_min:.6f} 到 {dec_max:.6f} 度\")"
   ]
  },
  {
   "cell_type": "code",
   "execution_count": 9,
   "metadata": {},
   "outputs": [
    {
     "name": "stdout",
     "output_type": "stream",
     "text": [
      "WCS 信息已补充并保存到 image_with_wcs.fits\n",
      "Gaia 星表列名: Index(['SOURCE_ID', 'ra', 'dec', 'parallax', 'pmra', 'pmdec',\n",
      "       'phot_g_mean_mag'],\n",
      "      dtype='object')\n"
     ]
    },
    {
     "name": "stderr",
     "output_type": "stream",
     "text": [
      "C:\\Users\\mapleLWG\\AppData\\Local\\Temp\\ipykernel_29956\\385380710.py:41: FutureWarning: The 'delim_whitespace' keyword in pd.read_csv is deprecated and will be removed in a future version. Use ``sep='\\s+'`` instead\n",
      "  sextractor_df = pd.read_csv(sextractor_cat_path, delim_whitespace=True, comment='#', header=None)\n"
     ]
    },
    {
     "name": "stdout",
     "output_type": "stream",
     "text": [
      "SExtractor 探测到的源:\n",
      "      X_IMAGE  Y_IMAGE\n",
      "0   7331.4233  89.6331\n",
      "1  14045.5039  92.0181\n",
      "2   6795.6030  90.6179\n",
      "3  10230.3350  92.6703\n",
      "4   9996.7910  91.4844\n",
      "SExtractor 探测到的源的天球坐标:\n",
      "           RA       DEC\n",
      "0  180.763177 -2.556254\n",
      "1  178.898320 -2.555347\n",
      "2  180.911985 -2.555884\n",
      "3  179.957962 -2.555637\n",
      "4  180.022836 -2.555967\n",
      "匹配结果:\n",
      "      X_IMAGE  Y_IMAGE  MATCHED\n",
      "0   7331.4233  89.6331        0\n",
      "1  14045.5039  92.0181        0\n",
      "2   6795.6030  90.6179        0\n",
      "3  10230.3350  92.6703        0\n",
      "4   9996.7910  91.4844        0\n",
      "匹配结果已保存到 matched_catalog_shao.csv\n"
     ]
    }
   ],
   "source": [
    "import pandas as pd\n",
    "from astropy.io import fits\n",
    "from astropy.wcs import WCS\n",
    "from astropy.coordinates import SkyCoord\n",
    "from astropy import units as u\n",
    "\n",
    "fits_path = r'D:\\AI\\study1\\image_with_wcs_shao.fits'  \n",
    "gaia_csv_path = r'D:\\AI\\study1\\gaia_catalog_shao.csv'  \n",
    "sextractor_cat_path = r'D:\\AI\\study1\\shao1.cat'  \n",
    "output_csv_path = 'matched_catalog_shao.csv' \n",
    "\n",
    "with fits.open(fits_path) as hdul:\n",
    "    data = hdul[0].data  \n",
    "    header = hdul[0].header \n",
    "\n",
    "header['CTYPE1'] = 'RA---TAN' \n",
    "header['CTYPE2'] = 'DEC--TAN'  \n",
    "header['CRVAL1'] = 180.0  \n",
    "header['CRVAL2'] = 0.0  \n",
    "header['CRPIX1'] = 10080.0  \n",
    "header['CRPIX2'] = 9300.0  \n",
    "header['CDELT1'] = -0.00027778  \n",
    "header['CDELT2'] = 0.00027778 \n",
    "\n",
    "wcs = WCS(header)\n",
    "\n",
    "header.update(wcs.to_header())\n",
    "\n",
    "new_fits_path = 'image_with_wcs.fits'\n",
    "with fits.open(fits_path) as hdul:\n",
    "    hdul[0].header = header\n",
    "    hdul.writeto(new_fits_path, overwrite=True)\n",
    "print(f\"WCS 信息已补充并保存到 {new_fits_path}\")\n",
    "\n",
    "gaia_df = pd.read_csv(gaia_csv_path)\n",
    "print(\"Gaia 星表列名:\", gaia_df.columns)\n",
    "\n",
    "gaia_df['ra'] = pd.to_numeric(gaia_df['ra'], errors='coerce')\n",
    "gaia_df['dec'] = pd.to_numeric(gaia_df['dec'], errors='coerce')\n",
    "\n",
    "sextractor_df = pd.read_csv(sextractor_cat_path, delim_whitespace=True, comment='#', header=None)\n",
    "\n",
    "num_columns = len(sextractor_df.columns)\n",
    "if num_columns == 2:\n",
    "    sextractor_df.columns = ['X_IMAGE', 'Y_IMAGE']\n",
    "elif num_columns == 4:\n",
    "    sextractor_df.columns = ['X_IMAGE', 'Y_IMAGE', 'FLUX', 'MAG']\n",
    "else:\n",
    "    raise ValueError(f\"未知的列数: {num_columns}\")\n",
    "\n",
    "print(\"SExtractor 探测到的源:\")\n",
    "print(sextractor_df.head())\n",
    "\n",
    "sextractor_coords = wcs.all_pix2world(sextractor_df[['X_IMAGE', 'Y_IMAGE']], 0)\n",
    "sextractor_df['RA'] = sextractor_coords[:, 0]\n",
    "sextractor_df['DEC'] = sextractor_coords[:, 1]\n",
    "print(\"SExtractor 探测到的源的天球坐标:\")\n",
    "print(sextractor_df[['RA', 'DEC']].head())\n",
    "\n",
    "gaia_coords = SkyCoord(ra=gaia_df['ra'].values * u.degree, dec=gaia_df['dec'].values * u.degree)\n",
    "sextractor_coords = SkyCoord(ra=sextractor_df['RA'].values * u.degree, dec=sextractor_df['DEC'].values * u.degree)\n",
    "\n",
    "max_separation = 5 * u.arcsec \n",
    "idx, d2d, _ = sextractor_coords.match_to_catalog_sky(gaia_coords)\n",
    "\n",
    "sextractor_df['MATCHED'] = (d2d < max_separation).astype(int) \n",
    "\n",
    "print(\"匹配结果:\")\n",
    "print(sextractor_df[['X_IMAGE', 'Y_IMAGE', 'MATCHED']].head())\n",
    "\n",
    "sextractor_df[['X_IMAGE', 'Y_IMAGE', 'MATCHED']].to_csv(output_csv_path, index=False)\n",
    "print(f\"匹配结果已保存到 {output_csv_path}\")"
   ]
  },
  {
   "cell_type": "code",
   "execution_count": 10,
   "metadata": {},
   "outputs": [
    {
     "name": "stdout",
     "output_type": "stream",
     "text": [
      "匹配文件的列名: Index(['X_IMAGE', 'Y_IMAGE', 'MATCHED'], dtype='object')\n",
      "真值数量 (True Positives): 11580\n",
      "假值数量 (False Positives): 509169\n"
     ]
    }
   ],
   "source": [
    "import pandas as pd\n",
    "\n",
    "matched_csv_path = r'matched_catalog_shao.csv' \n",
    "matched_df = pd.read_csv(matched_csv_path)\n",
    "\n",
    "print(\"匹配文件的列名:\", matched_df.columns)\n",
    "\n",
    "match_column = 'MATCHED'  \n",
    "if match_column not in matched_df.columns:\n",
    "    raise KeyError(f\"列名 '{match_column}' 不存在。请检查匹配文件的列名。\")\n",
    "\n",
    "true_positives = matched_df[match_column].sum() \n",
    "false_positives = len(matched_df) - true_positives  \n",
    "\n",
    "print(f\"真值数量 (True Positives): {true_positives}\")\n",
    "print(f\"假值数量 (False Positives): {false_positives}\")"
   ]
  },
  {
   "cell_type": "code",
   "execution_count": 11,
   "metadata": {},
   "outputs": [
    {
     "name": "stdout",
     "output_type": "stream",
     "text": [
      "提取到的图像块数量: 520749\n",
      "每个图像块的形状: (8, 8)\n"
     ]
    }
   ],
   "source": [
    "from astropy.io import fits\n",
    "import numpy as np\n",
    "\n",
    "fits_image = fits.open(r'D:\\AI\\docker_models\\Ubuntu-Sextractor\\config\\SH8902SHI61001.fits')\n",
    "data = fits_image[0].data\n",
    "\n",
    "catalog = np.loadtxt(r'D:\\AI\\study1\\matched_catalog_shao.csv', delimiter=',', skiprows=1) \n",
    "x_positions = catalog[:, 0] \n",
    "y_positions = catalog[:, 1]  \n",
    "labels = catalog[:, 2]  \n",
    "\n",
    "def pad_patch(patch, patch_size):\n",
    "    if patch.shape[0] < patch_size or patch.shape[1] < patch_size:\n",
    "        pad_width = ((0, patch_size - patch.shape[0]), (0, patch_size - patch.shape[1]))\n",
    "        patch = np.pad(patch, pad_width, mode='constant', constant_values=0)\n",
    "    return patch\n",
    "\n",
    "patch_size = 8 \n",
    "patches = []\n",
    "for x, y in zip(x_positions, y_positions):\n",
    "    x = int(round(x))  \n",
    "    y = int(round(y))\n",
    "    patch = data[y - patch_size//2:y + patch_size//2,\n",
    "                 x - patch_size//2:x + patch_size//2]\n",
    "    patch = pad_patch(patch, patch_size)  \n",
    "    patches.append(patch)\n",
    "\n",
    "patches = np.array(patches)\n",
    "print(\"提取到的图像块数量:\", len(patches))\n",
    "print(\"每个图像块的形状:\", patches[0].shape)"
   ]
  },
  {
   "cell_type": "code",
   "execution_count": 12,
   "metadata": {},
   "outputs": [],
   "source": [
    "patches = patches / 255.0\n",
    "\n",
    "from skimage.transform import resize\n",
    "patches_resized = np.array([resize(patch, (patch_size, patch_size)) for patch in patches])\n",
    "\n",
    "patches_resized = np.expand_dims(patches_resized, axis=-1) "
   ]
  },
  {
   "cell_type": "code",
   "execution_count": 13,
   "metadata": {},
   "outputs": [],
   "source": [
    "import torch\n",
    "import torch.nn as nn\n",
    "\n",
    "class SimpleCNN(nn.Module):\n",
    "    def __init__(self, num_classes):\n",
    "        super(SimpleCNN, self).__init__()\n",
    "        self.conv1 = nn.Conv2d(in_channels=1, out_channels=32, kernel_size=3, stride=1, padding=1)\n",
    "        self.conv2 = nn.Conv2d(in_channels=32, out_channels=64, kernel_size=3, stride=1, padding=1)\n",
    "        self.pool = nn.MaxPool2d(kernel_size=2, stride=2, padding=0)\n",
    "        self.fc1 = nn.Linear(64 * 2 * 2, 128)  \n",
    "        self.fc2 = nn.Linear(128, num_classes)\n",
    "        self.relu = nn.ReLU()\n",
    "\n",
    "    def forward(self, x):\n",
    "        x = self.pool(self.relu(self.conv1(x)))\n",
    "        x = self.pool(self.relu(self.conv2(x)))\n",
    "        x = x.view(-1, 64 * 2 * 2) \n",
    "        x = self.relu(self.fc1(x))\n",
    "        x = self.fc2(x)\n",
    "        return x"
   ]
  },
  {
   "cell_type": "code",
   "execution_count": 14,
   "metadata": {},
   "outputs": [],
   "source": [
    "from torch.utils.data import DataLoader, TensorDataset\n",
    "\n",
    "patches_tensor = torch.tensor(patches, dtype=torch.float32).unsqueeze(1)  \n",
    "labels_tensor = torch.tensor(labels, dtype=torch.long)\n",
    "\n",
    "dataset = TensorDataset(patches_tensor, labels_tensor)\n",
    "dataloader = DataLoader(dataset, batch_size=32, shuffle=True)"
   ]
  },
  {
   "cell_type": "code",
   "execution_count": 15,
   "metadata": {},
   "outputs": [],
   "source": [
    "import torch.optim as optim\n",
    "\n",
    "model = SimpleCNN(num_classes=2)\n",
    "criterion = nn.CrossEntropyLoss()\n",
    "optimizer = optim.Adam(model.parameters(), lr=0.1)"
   ]
  },
  {
   "cell_type": "code",
   "execution_count": 16,
   "metadata": {},
   "outputs": [
    {
     "name": "stdout",
     "output_type": "stream",
     "text": [
      "标签的最大值: 1.0\n",
      "标签的最小值: 0.0\n"
     ]
    }
   ],
   "source": [
    "print(\"标签的最大值:\", labels.max().item())\n",
    "print(\"标签的最小值:\", labels.min().item())"
   ]
  },
  {
   "cell_type": "code",
   "execution_count": 17,
   "metadata": {},
   "outputs": [
    {
     "name": "stdout",
     "output_type": "stream",
     "text": [
      "Epoch [1/20], Loss: 0.1425, Learning Rate: 0.100000\n",
      "Epoch [2/20], Loss: 0.1078, Learning Rate: 0.100000\n",
      "Epoch [3/20], Loss: 0.1079, Learning Rate: 0.100000\n",
      "Epoch [4/20], Loss: 0.1079, Learning Rate: 0.100000\n",
      "Epoch [5/20], Loss: 0.1079, Learning Rate: 0.010000\n",
      "Epoch [6/20], Loss: 0.1067, Learning Rate: 0.010000\n",
      "Epoch [7/20], Loss: 0.1068, Learning Rate: 0.010000\n",
      "Epoch [8/20], Loss: 0.1068, Learning Rate: 0.010000\n",
      "Epoch [9/20], Loss: 0.1067, Learning Rate: 0.010000\n",
      "Epoch [10/20], Loss: 0.1068, Learning Rate: 0.001000\n",
      "Epoch [11/20], Loss: 0.1066, Learning Rate: 0.001000\n",
      "Epoch [12/20], Loss: 0.1066, Learning Rate: 0.001000\n",
      "Epoch [13/20], Loss: 0.1066, Learning Rate: 0.001000\n",
      "Epoch [14/20], Loss: 0.1067, Learning Rate: 0.001000\n",
      "Epoch [15/20], Loss: 0.1066, Learning Rate: 0.000100\n",
      "Epoch [16/20], Loss: 0.1066, Learning Rate: 0.000100\n",
      "Epoch [17/20], Loss: 0.1066, Learning Rate: 0.000100\n",
      "Epoch [18/20], Loss: 0.1066, Learning Rate: 0.000100\n",
      "Epoch [19/20], Loss: 0.1066, Learning Rate: 0.000100\n",
      "Epoch [20/20], Loss: 0.1066, Learning Rate: 0.000010\n"
     ]
    },
    {
     "data": {
      "image/png": "[encoded data removed]",
      "text/plain": [
       "<Figure size 1000x600 with 1 Axes>"
      ]
     },
     "metadata": {},
     "output_type": "display_data"
    }
   ],
   "source": [
    "import matplotlib.pyplot as plt\n",
    "import torch.optim as optim\n",
    "from torch.optim.lr_scheduler import StepLR\n",
    "\n",
    "scheduler = StepLR(optimizer, step_size=5, gamma=0.1) \n",
    "\n",
    "num_epochs = 20\n",
    "epoch_losses = []  \n",
    "plt.figure(figsize=(10, 6))\n",
    "\n",
    "for epoch in range(num_epochs):\n",
    "    model.train()  \n",
    "    running_loss = 0.0\n",
    "    for i, (inputs, labels) in enumerate(dataloader):\n",
    "        optimizer.zero_grad()\n",
    "        outputs = model(inputs)\n",
    "        loss = criterion(outputs, labels)\n",
    "        loss.backward()\n",
    "        optimizer.step()\n",
    "        running_loss += loss.item()\n",
    "    \n",
    "    epoch_avg_loss = running_loss / len(dataloader)\n",
    "    epoch_losses.append(epoch_avg_loss)  \n",
    "    \n",
    "    scheduler.step()\n",
    "    \n",
    "    current_lr = optimizer.param_groups[0]['lr']\n",
    "    print(f'Epoch [{epoch + 1}/{num_epochs}], Loss: {epoch_avg_loss:.4f}, Learning Rate: {current_lr:.6f}')\n",
    "\n",
    "plt.plot(epoch_losses, marker='o', linestyle='-', color='magenta', linewidth=2, markersize=4) \n",
    "plt.title('Training Loss Over Epochs', fontsize=16, fontweight='bold', color='darkblue')\n",
    "plt.xlabel('Epoch', fontsize=14, fontweight='bold', color='darkblue')\n",
    "plt.ylabel('Loss', fontsize=14, fontweight='bold', color='darkblue')\n",
    "plt.grid(False) \n",
    "plt.xticks([]) \n",
    "plt.yticks(fontsize=12, color='darkred')  \n",
    "plt.tight_layout()  \n",
    "plt.show()"
   ]
  },
  {
   "cell_type": "code",
   "execution_count": null,
   "metadata": {},
   "outputs": [
    {
     "name": "stdout",
     "output_type": "stream",
     "text": [
      "Accuracy of the model on the test dataset: 97.78%\n"
     ]
    },
    {
     "ename": "",
     "evalue": "",
     "output_type": "error",
     "traceback": [
      "\u001b[1;31m在当前单元格或上一个单元格中执行代码时 Kernel 崩溃。\n",
      "\u001b[1;31m请查看单元格中的代码，以确定故障的可能原因。\n",
      "\u001b[1;31m单击<a href='https://aka.ms/vscodeJupyterKernelCrash'>此处</a>了解详细信息。\n",
      "\u001b[1;31m有关更多详细信息，请查看 Jupyter <a href='command:jupyter.viewOutput'>log</a>。"
     ]
    }
   ],
   "source": [
    "model.eval()\n",
    "\n",
    "correct = 0\n",
    "total = 0\n",
    "\n",
    "with torch.no_grad():\n",
    "    for inputs, labels in dataloader:\n",
    "        outputs = model(inputs)\n",
    "        _, predicted = torch.max(outputs.data, 1) \n",
    "        total += labels.size(0)\n",
    "        correct += (predicted == labels).sum().item()\n",
    "\n",
    "accuracy = 100 * correct / total\n",
    "print(f'Accuracy of the model on the test dataset: {accuracy:.2f}%')"
   ]
  }
 ],
 "metadata": {
  "kernelspec": {
   "display_name": "lwg",
   "language": "python",
   "name": "python3"
  },
  "language_info": {
   "codemirror_mode": {
    "name": "ipython",
    "version": 3
   },
   "file_extension": ".py",
   "mimetype": "text/x-python",
   "name": "python",
   "nbconvert_exporter": "python",
   "pygments_lexer": "ipython3",
   "version": "3.10.14"
  }
 },
 "nbformat": 4,
 "nbformat_minor": 2
}
