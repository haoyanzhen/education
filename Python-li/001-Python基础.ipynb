{
 "cells": [
  {
   "cell_type": "markdown",
   "metadata": {},
   "source": [
    "# Python基础测试与补充\n",
    "\n",
    "Author: haoyanzhen \\\n",
    "Date:   2024-11-08"
   ]
  },
  {
   "cell_type": "markdown",
   "metadata": {},
   "source": [
    "## python 编程基础\n",
    "\n",
    "1. 基本语法\n",
    "   1. 输入输出\n",
    "   2. 标识符（字母数字下划线）、特殊标识符（下划线开头）、标识符命名规则\n",
    "      1. 命名规则： \n",
    "         - 不能以数字开头，不能和关键字重名\n",
    "         - 对普通变量，可以连字命名，或下划线命名，或驼峰命名\n",
    "         - 对类，取Pascal命名\n",
    "   3. 缩进规则\n",
    "   4. 多行语句\n",
    "   5. 单双引号\n",
    "   6. 注释\n",
    "   7. 格式化规范-空格、空行\n",
    "   8. 赋值规则： 不指定类型直接赋值，但不允许有未赋值变量\n",
    "2. 运算符\n",
    "   1. 基本运算符（+-*/ // % **）\n",
    "   2. 比较运算符（== != <> <=）\n",
    "   3. 赋值运算符（= += /=）\n",
    "   4. 逻辑运算符（and or not）（& | ~）\n",
    "   5. 成员运算符（in not in）\n",
    "   6. 身份运算符（is is not）\n",
    "   7. 运算符优先级\n",
    "3. 逻辑语句\n",
    "   1. 条件 if\n",
    "   2. 循环 while for break continue pass\n",
    "   3. 单行逻辑语句\n",
    "4. 变量类型\n",
    "   1. 字符串\n",
    "      1. 字符串操作\n",
    "      2. 字符串格式化\n",
    "   2. 列表\n",
    "   3. 元组\n",
    "   4. 字典\n",
    "      1. 字典的特殊性质——可以新增所需变量\n",
    "5. 封装\n",
    "   1. 函数： 输入、输出、可选参数、继承变量\n",
    "   2. 类： 类属性、类方法、方法修饰、内禀方法\n",
    "   3. 模块： 构建、调用"
   ]
  }
 ],
 "metadata": {
  "kernelspec": {
   "display_name": "ntorch",
   "language": "python",
   "name": "python3"
  },
  "language_info": {
   "codemirror_mode": {
    "name": "ipython",
    "version": 3
   },
   "file_extension": ".py",
   "mimetype": "text/x-python",
   "name": "python",
   "nbconvert_exporter": "python",
   "pygments_lexer": "ipython3",
   "version": "3.9.19"
  }
 },
 "nbformat": 4,
 "nbformat_minor": 2
}
