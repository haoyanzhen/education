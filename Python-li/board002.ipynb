{
 "cells": [
  {
   "cell_type": "code",
   "execution_count": 4,
   "metadata": {},
   "outputs": [],
   "source": [
    "import numpy as np\n",
    "from matplotlib import pyplot as plt"
   ]
  },
  {
   "cell_type": "markdown",
   "metadata": {},
   "source": [
    "## numpy"
   ]
  },
  {
   "cell_type": "markdown",
   "metadata": {},
   "source": [
    "### array创建和数据类型"
   ]
  },
  {
   "cell_type": "code",
   "execution_count": 38,
   "metadata": {},
   "outputs": [
    {
     "data": {
      "text/plain": [
       "array([1, 3, 0])"
      ]
     },
     "execution_count": 38,
     "metadata": {},
     "output_type": "execute_result"
    }
   ],
   "source": [
    "a = [1,3, '0']\n",
    "b = np.array(a).astype(np.int32)\n",
    "b"
   ]
  },
  {
   "cell_type": "code",
   "execution_count": 12,
   "metadata": {},
   "outputs": [
    {
     "data": {
      "text/plain": [
       "array(240, dtype=uint8)"
      ]
     },
     "execution_count": 12,
     "metadata": {},
     "output_type": "execute_result"
    }
   ],
   "source": [
    "a1 = 240\n",
    "b1 = np.array(a1).astype(np.uint8)\n",
    "b1"
   ]
  },
  {
   "cell_type": "code",
   "execution_count": 13,
   "metadata": {},
   "outputs": [
    {
     "data": {
      "text/plain": [
       "array(-16, dtype=int8)"
      ]
     },
     "execution_count": 13,
     "metadata": {},
     "output_type": "execute_result"
    }
   ],
   "source": [
    "b1.astype(np.int8)"
   ]
  },
  {
   "cell_type": "code",
   "execution_count": 14,
   "metadata": {},
   "outputs": [
    {
     "data": {
      "text/plain": [
       "array(240, dtype=int16)"
      ]
     },
     "execution_count": 14,
     "metadata": {},
     "output_type": "execute_result"
    }
   ],
   "source": [
    "b1.astype(np.int16)"
   ]
  },
  {
   "cell_type": "code",
   "execution_count": 15,
   "metadata": {},
   "outputs": [
    {
     "data": {
      "text/plain": [
       "array(240, dtype=int16)"
      ]
     },
     "execution_count": 15,
     "metadata": {},
     "output_type": "execute_result"
    }
   ],
   "source": [
    "np.array(a1, dtype=np.int16)"
   ]
  },
  {
   "cell_type": "markdown",
   "metadata": {},
   "source": [
    "### numpy 特殊序列的创建"
   ]
  },
  {
   "cell_type": "code",
   "execution_count": 20,
   "metadata": {},
   "outputs": [
    {
     "data": {
      "text/plain": [
       "array([ 0,  1,  4,  9, 16, 25, 36, 49, 64, 81])"
      ]
     },
     "execution_count": 20,
     "metadata": {},
     "output_type": "execute_result"
    }
   ],
   "source": [
    "np.arange(10) ** 2"
   ]
  },
  {
   "cell_type": "code",
   "execution_count": 25,
   "metadata": {},
   "outputs": [
    {
     "data": {
      "text/plain": [
       "array([ 20, 120, 220, 320, 420, 520, 620, 720, 820, 920])"
      ]
     },
     "execution_count": 25,
     "metadata": {},
     "output_type": "execute_result"
    }
   ],
   "source": [
    "np.arange(10) * 100 + 20"
   ]
  },
  {
   "cell_type": "code",
   "execution_count": 27,
   "metadata": {},
   "outputs": [
    {
     "data": {
      "text/plain": [
       "array([0.  , 0.25, 0.5 , 0.75, 1.  ])"
      ]
     },
     "execution_count": 27,
     "metadata": {},
     "output_type": "execute_result"
    }
   ],
   "source": [
    "np.linspace(0,1,5)"
   ]
  },
  {
   "cell_type": "code",
   "execution_count": 26,
   "metadata": {},
   "outputs": [
    {
     "data": {
      "text/plain": [
       "array([0. , 0.2, 0.4, 0.6, 0.8])"
      ]
     },
     "execution_count": 26,
     "metadata": {},
     "output_type": "execute_result"
    }
   ],
   "source": [
    "np.linspace(0,1,5,endpoint=False)"
   ]
  },
  {
   "cell_type": "code",
   "execution_count": 28,
   "metadata": {},
   "outputs": [
    {
     "data": {
      "text/plain": [
       "array([0., 0., 0., 0., 0.])"
      ]
     },
     "execution_count": 28,
     "metadata": {},
     "output_type": "execute_result"
    }
   ],
   "source": [
    "np.zeros(5)"
   ]
  },
  {
   "cell_type": "code",
   "execution_count": 29,
   "metadata": {},
   "outputs": [
    {
     "data": {
      "text/plain": [
       "array([[0., 0., 0., 0., 0.],\n",
       "       [0., 0., 0., 0., 0.]])"
      ]
     },
     "execution_count": 29,
     "metadata": {},
     "output_type": "execute_result"
    }
   ],
   "source": [
    "np.zeros((2,5))"
   ]
  },
  {
   "cell_type": "code",
   "execution_count": 30,
   "metadata": {},
   "outputs": [
    {
     "data": {
      "text/plain": [
       "array([[[0., 0., 0., 0., 0.],\n",
       "        [0., 0., 0., 0., 0.]],\n",
       "\n",
       "       [[0., 0., 0., 0., 0.],\n",
       "        [0., 0., 0., 0., 0.]]])"
      ]
     },
     "execution_count": 30,
     "metadata": {},
     "output_type": "execute_result"
    }
   ],
   "source": [
    "np.zeros((2,2,5))"
   ]
  },
  {
   "cell_type": "code",
   "execution_count": 31,
   "metadata": {},
   "outputs": [
    {
     "data": {
      "text/plain": [
       "array([1., 1., 1., 1., 1.])"
      ]
     },
     "execution_count": 31,
     "metadata": {},
     "output_type": "execute_result"
    }
   ],
   "source": [
    "np.ones(5)"
   ]
  },
  {
   "cell_type": "code",
   "execution_count": 33,
   "metadata": {},
   "outputs": [
    {
     "data": {
      "text/plain": [
       "array([[1., 1., 1., 1., 1., 1., 1., 1., 1., 1., 1., 1., 1., 1., 1., 1.],\n",
       "       [1., 1., 1., 1., 1., 1., 1., 1., 1., 1., 1., 1., 1., 1., 1., 1.],\n",
       "       [1., 1., 1., 1., 1., 1., 1., 1., 1., 1., 1., 1., 1., 1., 1., 1.],\n",
       "       [1., 1., 1., 1., 1., 1., 1., 1., 1., 1., 1., 1., 1., 1., 1., 1.],\n",
       "       [1., 1., 1., 1., 1., 1., 1., 1., 1., 1., 1., 1., 1., 1., 1., 1.],\n",
       "       [1., 1., 1., 1., 1., 1., 1., 1., 1., 1., 1., 1., 1., 1., 1., 1.],\n",
       "       [1., 1., 1., 1., 1., 1., 1., 1., 1., 1., 1., 1., 1., 1., 1., 1.],\n",
       "       [1., 1., 1., 1., 1., 1., 1., 1., 1., 1., 1., 1., 1., 1., 1., 1.],\n",
       "       [1., 1., 1., 1., 1., 1., 1., 1., 1., 1., 1., 1., 1., 1., 1., 1.],\n",
       "       [1., 1., 1., 1., 1., 1., 1., 1., 1., 1., 1., 1., 1., 1., 1., 1.],\n",
       "       [1., 1., 1., 1., 1., 1., 1., 1., 1., 1., 1., 1., 1., 1., 1., 1.],\n",
       "       [1., 1., 1., 1., 1., 1., 1., 1., 1., 1., 1., 1., 1., 1., 1., 1.],\n",
       "       [1., 1., 1., 1., 1., 1., 1., 1., 1., 1., 1., 1., 1., 1., 1., 1.],\n",
       "       [1., 1., 1., 1., 1., 1., 1., 1., 1., 1., 1., 1., 1., 1., 1., 1.],\n",
       "       [1., 1., 1., 1., 1., 1., 1., 1., 1., 1., 1., 1., 1., 1., 1., 1.],\n",
       "       [1., 1., 1., 1., 1., 1., 1., 1., 1., 1., 1., 1., 1., 1., 1., 1.]])"
      ]
     },
     "execution_count": 33,
     "metadata": {},
     "output_type": "execute_result"
    }
   ],
   "source": [
    "a3 = np.zeros([16,16])\n",
    "b3 = np.ones_like(a3)\n",
    "b3"
   ]
  },
  {
   "cell_type": "code",
   "execution_count": 34,
   "metadata": {},
   "outputs": [
    {
     "data": {
      "text/plain": [
       "array([[1., 1., 1., 1., 1., 1., 1., 1., 1., 1., 1., 1., 1., 1., 1., 1.],\n",
       "       [1., 1., 1., 1., 1., 1., 1., 1., 1., 1., 1., 1., 1., 1., 1., 1.],\n",
       "       [1., 1., 1., 1., 1., 1., 1., 1., 1., 1., 1., 1., 1., 1., 1., 1.],\n",
       "       [1., 1., 1., 1., 1., 1., 1., 1., 1., 1., 1., 1., 1., 1., 1., 1.],\n",
       "       [1., 1., 1., 1., 1., 1., 1., 1., 1., 1., 1., 1., 1., 1., 1., 1.],\n",
       "       [1., 1., 1., 1., 1., 1., 1., 1., 1., 1., 1., 1., 1., 1., 1., 1.],\n",
       "       [1., 1., 1., 1., 1., 1., 1., 1., 1., 1., 1., 1., 1., 1., 1., 1.],\n",
       "       [1., 1., 1., 1., 1., 1., 1., 1., 1., 1., 1., 1., 1., 1., 1., 1.],\n",
       "       [1., 1., 1., 1., 1., 1., 1., 1., 1., 1., 1., 1., 1., 1., 1., 1.],\n",
       "       [1., 1., 1., 1., 1., 1., 1., 1., 1., 1., 1., 1., 1., 1., 1., 1.],\n",
       "       [1., 1., 1., 1., 1., 1., 1., 1., 1., 1., 1., 1., 1., 1., 1., 1.],\n",
       "       [1., 1., 1., 1., 1., 1., 1., 1., 1., 1., 1., 1., 1., 1., 1., 1.],\n",
       "       [1., 1., 1., 1., 1., 1., 1., 1., 1., 1., 1., 1., 1., 1., 1., 1.],\n",
       "       [1., 1., 1., 1., 1., 1., 1., 1., 1., 1., 1., 1., 1., 1., 1., 1.],\n",
       "       [1., 1., 1., 1., 1., 1., 1., 1., 1., 1., 1., 1., 1., 1., 1., 1.],\n",
       "       [1., 1., 1., 1., 1., 1., 1., 1., 1., 1., 1., 1., 1., 1., 1., 1.]])"
      ]
     },
     "execution_count": 34,
     "metadata": {},
     "output_type": "execute_result"
    }
   ],
   "source": [
    "np.ones_like(a3)\n",
    "np.ones(a3.shape)"
   ]
  },
  {
   "cell_type": "code",
   "execution_count": 35,
   "metadata": {},
   "outputs": [
    {
     "data": {
      "text/plain": [
       "array([[1., 0., 0., 0., 0., 0., 0., 0., 0., 0.],\n",
       "       [0., 1., 0., 0., 0., 0., 0., 0., 0., 0.],\n",
       "       [0., 0., 1., 0., 0., 0., 0., 0., 0., 0.],\n",
       "       [0., 0., 0., 1., 0., 0., 0., 0., 0., 0.],\n",
       "       [0., 0., 0., 0., 1., 0., 0., 0., 0., 0.],\n",
       "       [0., 0., 0., 0., 0., 1., 0., 0., 0., 0.],\n",
       "       [0., 0., 0., 0., 0., 0., 1., 0., 0., 0.],\n",
       "       [0., 0., 0., 0., 0., 0., 0., 1., 0., 0.],\n",
       "       [0., 0., 0., 0., 0., 0., 0., 0., 1., 0.],\n",
       "       [0., 0., 0., 0., 0., 0., 0., 0., 0., 1.]])"
      ]
     },
     "execution_count": 35,
     "metadata": {},
     "output_type": "execute_result"
    }
   ],
   "source": [
    "np.eye(10)"
   ]
  },
  {
   "cell_type": "code",
   "execution_count": 37,
   "metadata": {},
   "outputs": [
    {
     "data": {
      "text/plain": [
       "array([[3., 3., 3.],\n",
       "       [3., 3., 3.],\n",
       "       [3., 3., 3.]])"
      ]
     },
     "execution_count": 37,
     "metadata": {},
     "output_type": "execute_result"
    }
   ],
   "source": [
    "np.ones((3,3)) * 3"
   ]
  },
  {
   "cell_type": "markdown",
   "metadata": {},
   "source": [
    "### numpy 随机数列"
   ]
  },
  {
   "cell_type": "code",
   "execution_count": 40,
   "metadata": {},
   "outputs": [
    {
     "ename": "TypeError",
     "evalue": "Cannot interpret '5' as a data type",
     "output_type": "error",
     "traceback": [
      "\u001b[1;31m---------------------------------------------------------------------------\u001b[0m",
      "\u001b[1;31mTypeError\u001b[0m                                 Traceback (most recent call last)",
      "Cell \u001b[1;32mIn[40], line 1\u001b[0m\n\u001b[1;32m----> 1\u001b[0m \u001b[43mnp\u001b[49m\u001b[38;5;241;43m.\u001b[39;49m\u001b[43mones\u001b[49m\u001b[43m(\u001b[49m\u001b[38;5;241;43m3\u001b[39;49m\u001b[43m,\u001b[49m\u001b[38;5;241;43m5\u001b[39;49m\u001b[43m)\u001b[49m\n",
      "File \u001b[1;32me:\\workEnvironment\\Anaconda\\envs\\ntorch\\lib\\site-packages\\numpy\\core\\numeric.py:191\u001b[0m, in \u001b[0;36mones\u001b[1;34m(shape, dtype, order, like)\u001b[0m\n\u001b[0;32m    188\u001b[0m \u001b[38;5;28;01mif\u001b[39;00m like \u001b[38;5;129;01mis\u001b[39;00m \u001b[38;5;129;01mnot\u001b[39;00m \u001b[38;5;28;01mNone\u001b[39;00m:\n\u001b[0;32m    189\u001b[0m     \u001b[38;5;28;01mreturn\u001b[39;00m _ones_with_like(like, shape, dtype\u001b[38;5;241m=\u001b[39mdtype, order\u001b[38;5;241m=\u001b[39morder)\n\u001b[1;32m--> 191\u001b[0m a \u001b[38;5;241m=\u001b[39m \u001b[43mempty\u001b[49m\u001b[43m(\u001b[49m\u001b[43mshape\u001b[49m\u001b[43m,\u001b[49m\u001b[43m \u001b[49m\u001b[43mdtype\u001b[49m\u001b[43m,\u001b[49m\u001b[43m \u001b[49m\u001b[43morder\u001b[49m\u001b[43m)\u001b[49m\n\u001b[0;32m    192\u001b[0m multiarray\u001b[38;5;241m.\u001b[39mcopyto(a, \u001b[38;5;241m1\u001b[39m, casting\u001b[38;5;241m=\u001b[39m\u001b[38;5;124m'\u001b[39m\u001b[38;5;124munsafe\u001b[39m\u001b[38;5;124m'\u001b[39m)\n\u001b[0;32m    193\u001b[0m \u001b[38;5;28;01mreturn\u001b[39;00m a\n",
      "\u001b[1;31mTypeError\u001b[0m: Cannot interpret '5' as a data type"
     ]
    }
   ],
   "source": [
    "np.ones((3,5), dtype=np.int16)"
   ]
  },
  {
   "cell_type": "code",
   "execution_count": null,
   "metadata": {},
   "outputs": [],
   "source": [
    "np.random.rand(1000,1000)"
   ]
  },
  {
   "cell_type": "code",
   "execution_count": 57,
   "metadata": {},
   "outputs": [
    {
     "data": {
      "text/plain": [
       "array([ 6.06956431, 71.46574115, 21.97425352, 87.67160486, 97.18794365,\n",
       "       35.05805933, 43.46203344, 16.65844986, 85.01988255, 41.42056842,\n",
       "       27.5204178 , 31.26223262, 35.59415846, 16.43023586, 46.69137425,\n",
       "       35.61092103, 19.86727389, 23.96050078, 79.46991894, 33.47386724,\n",
       "       69.85736628, 63.40365081, 94.15275104, 80.24516819, 30.74637289,\n",
       "       76.26618742, 82.41353645, 88.18919933, 87.0702979 , 46.59731314,\n",
       "        2.22933842, 23.57336379, 18.97667919, 73.65709013, 59.77396133,\n",
       "       68.23727805, 85.26716058, 87.36880888, 82.93087687, 38.75737051,\n",
       "       47.66638088, 30.49602459, 38.99809863, 21.01612629, 30.29038901,\n",
       "       31.28026554, 91.71134304, 28.25406668, 37.6823794 , 29.66013417,\n",
       "       91.15682251, 12.78290453,  5.27988006, 19.84634333, 76.27528804,\n",
       "       63.52965721, 48.81940562, 96.90624831, 62.12930368, 19.64329418,\n",
       "       18.64318946, 13.51736229, 50.63817373, 68.40655833, 30.21980876,\n",
       "       13.07494809, 75.90805544, 12.18259354,  2.97904891, 21.57289743,\n",
       "       52.92304371,  4.65527837, 77.96684363, 61.8816943 , 76.68059344,\n",
       "        2.68258454, 32.79548521,  8.48514376, 93.78465293, 84.11101703,\n",
       "       67.96611382, 75.71985592, 93.4034809 , 76.17778733,  7.52184404,\n",
       "       44.66413456, 79.22009082, 57.4495231 , 20.79943745, 29.64296176,\n",
       "       77.27386344, 69.15082905,  8.0905364 , 39.45477406, 32.04254408,\n",
       "       37.45726702, 54.90951468, 61.68368021, 87.65084363, 22.62969572,\n",
       "       43.07535647, 18.28026828, 38.24846699, 28.9700878 , 21.58882712,\n",
       "       96.62987275, 41.37506876, 77.06732801, 69.04881727, 88.27621669,\n",
       "       71.60731801, 38.94666471, 85.3665131 , 40.18493579, 55.0569288 ,\n",
       "       99.75101831, 22.24871488, 35.07181273, 12.39400367, 42.76585204,\n",
       "       74.0835007 , 41.89222861, 47.48900115, 52.84369193, 23.62730842,\n",
       "       12.84487586, 99.91119469, 15.79617534, 77.12571175, 34.97673831,\n",
       "       67.67912996, 45.89796854, 58.81278943, 53.61557162, 62.33199654,\n",
       "        2.61356148, 54.09364549, 17.15223925, 13.69873389, 15.28359849,\n",
       "       90.56448143, 86.81674611, 39.4227392 , 11.53925433, 79.64588308,\n",
       "        8.46636848, 47.38358932,  9.89866114, 11.97357353,  1.77052503,\n",
       "       86.87922655, 75.19716576, 12.37202212,  3.75756375, 44.86154234,\n",
       "       46.96462746, 91.82626343, 38.95219558, 60.56422447, 50.29239609,\n",
       "        7.28573758, 34.05905128, 55.06567415, 55.853752  , 74.58634036,\n",
       "       25.57545361, 46.77906469, 77.57193351,  3.5036847 , 38.6308327 ,\n",
       "       78.28181894, 30.80538507, 64.97749118, 67.9527304 , 55.1495703 ,\n",
       "       22.75756863, 60.30714437, 37.26952468, 71.45086828, 44.51772308,\n",
       "       67.79143052, 33.34766088, 58.46758523, 72.99589147, 62.32007584,\n",
       "       90.95109368, 88.14961977, 94.36008834, 96.60260428, 61.64995266,\n",
       "        2.70282873, 33.83722973, 20.37995379, 18.87389999, 88.2099351 ,\n",
       "       92.80622574, 19.73834697, 95.28471505,  8.469808  , 17.39542455,\n",
       "       47.75229471, 10.52241457, 72.69959098, 28.3665004 ,  6.81778593,\n",
       "       80.24364913, 96.05932172, 77.40656244, 20.34138252,  1.52738004,\n",
       "       99.65305206, 84.77809318,  3.9991573 , 11.0031164 , 21.30137028,\n",
       "       94.6379266 , 49.03146614, 11.20957563, 81.3714808 , 69.76267184,\n",
       "       54.35140985, 24.17475407, 94.54506417, 92.70916483, 37.24097061,\n",
       "       65.20536514,  5.35614101, 81.25878259, 91.84771547, 56.99295912,\n",
       "       48.81736787, 79.52974709, 23.74158761, 70.46816575, 13.3500224 ,\n",
       "       38.05060458, 70.07063635, 88.78089917, 69.56502715, 63.02345752,\n",
       "       81.98446615, 37.38479534, 68.65779489, 44.74804448, 73.73253484,\n",
       "       86.75242224, 49.36201603, 76.51169264, 67.37772995, 50.88715454,\n",
       "       60.52669017, 46.71026421, 86.97066412, 19.43664097, 68.70057915,\n",
       "       55.27414172, 52.02291684, 31.55923716,  1.47544535, 55.51225823,\n",
       "       87.45375428, 41.75994326,  1.64686892, 69.47865961, 50.80024841,\n",
       "       24.10763064, 86.09412967, 70.16210704, 77.49008675, 54.87393597,\n",
       "       79.91376337, 96.43730279, 72.82364138, 41.32354031, 93.34657513,\n",
       "       44.01700308, 72.44451894, 55.46673004, 29.10609138, 38.03270788,\n",
       "       54.03317596, 65.48825857, 65.0099856 , 43.66034823, 10.60681717,\n",
       "       11.65672351, 32.43736188, 73.48765968, 84.09859031,  5.63713402,\n",
       "       12.13427633, 47.48298257,  9.66551397, 59.69985117,  9.59264502,\n",
       "       89.02560848, 44.7193369 , 68.46653687, 17.04824653, 66.27290864,\n",
       "       65.70481885, 25.11998008, 52.54140929, 40.31906752, 97.77464541,\n",
       "       16.08236424, 13.18778174, 73.77333678, 19.05893688, 47.61535587,\n",
       "       68.73728707, 11.1510393 ,  8.23157811, 10.7844739 ,  4.70945472,\n",
       "       14.03673008,  6.77381908, 73.81361988, 97.6848662 , 33.09000944,\n",
       "       19.69905309, 15.77912994, 48.96475582, 85.21745819, 38.40537548,\n",
       "       19.1297607 , 47.9175866 , 55.0225272 , 39.42973219, 64.62930488,\n",
       "       64.37267504, 61.29280731, 87.67046352, 65.83090661, 75.90788245,\n",
       "       72.74735929, 56.32216974, 65.1670831 , 65.19469935, 12.29415667,\n",
       "       48.9094055 , 33.21367573,  6.4188813 , 68.43527483, 95.90281045,\n",
       "       41.32529318, 98.82712402, 93.63672306,  3.32198247, 61.86390603,\n",
       "       27.7114387 , 40.16247604, 94.78825431, 87.45005579, 65.69214003,\n",
       "       84.1001374 , 15.55067801,  6.10759904, 59.17700146, 23.08023407,\n",
       "       21.28383452, 27.49391956, 99.16223963, 82.75378929, 82.36208616,\n",
       "       21.67649657, 19.54166849,  2.17183624, 39.86119911, 47.57285729,\n",
       "       45.33945672, 20.5417717 , 63.27541405, 49.91894445, 47.03559409,\n",
       "       98.9995654 , 63.35694052, 31.47019785, 68.94468074, 64.11852457,\n",
       "       95.03276949, 78.4560442 , 50.0950125 , 37.2908861 , 18.09761792,\n",
       "        2.97891841, 51.07458978, 55.94527126, 64.81439458, 86.84566665,\n",
       "       61.3826444 , 45.46215703, 52.29169733, 12.27124917, 59.40068502,\n",
       "       20.24705567, 29.19822635, 41.41130454, 12.55677706, 19.28986606,\n",
       "       85.84662574, 48.64445696, 87.14837087, 45.71659846, 16.61495432,\n",
       "        4.9380723 , 35.01818923, 27.61719903, 65.95422108,  8.49373276,\n",
       "       34.25946343, 91.70394646, 48.75212429, 66.44567853, 32.52721532,\n",
       "       26.68444378, 29.0554864 , 60.61558411, 11.42061627, 67.80039539,\n",
       "       86.10553872, 17.41677067, 83.10399273, 55.80360048, 42.80893475,\n",
       "       24.77850633, 48.62399389, 24.68761551, 95.5884369 , 28.08973485,\n",
       "       62.02829915, 75.34574334,  7.03463173, 68.017352  , 33.32226195,\n",
       "       51.87314438, 25.7000416 , 35.44175732, 70.28208111, 67.51046786,\n",
       "       86.87106203,  2.72448806, 74.31029025, 29.63475176,  5.64484359,\n",
       "       80.56932331, 31.92444005, 65.63494221, 82.29560521, 73.83770968,\n",
       "       83.21232974,  5.18884969, 17.41997092, 38.86584131, 68.47415442,\n",
       "       63.00698435, 91.15271816, 90.63934914, 29.17327417, 41.49227882,\n",
       "       37.7153933 , 70.59278953, 39.92861803, 49.29247265, 90.90339365,\n",
       "       92.18775652, 35.16070674, 93.95105823, 62.78112399, 72.19962198,\n",
       "       73.60066439, 16.23692626, 47.08142323, 68.16713845, 69.44684741,\n",
       "       29.33650495, 39.33451393, 55.51637241, 57.39166636, 18.35858638,\n",
       "       55.17130597, 12.08793806, 53.70850147, 15.17680216, 63.1910949 ,\n",
       "        9.0084861 , 91.58982328, 54.65269328, 48.65544657, 92.07400313,\n",
       "       50.1354808 , 51.48645001, 50.37549471, 98.93085557, 81.87445188,\n",
       "       58.09213228, 68.4420787 , 84.00949456, 63.27529831, 41.46996772,\n",
       "       69.27255319, 74.68837608, 63.716679  , 40.70094166, 93.54127269,\n",
       "       59.07508978, 50.3723629 , 80.17512575, 65.84781316, 19.16966351,\n",
       "       45.79490298, 35.04835413, 78.54526529, 29.30301784, 65.26802439,\n",
       "       12.49281647, 63.99238523, 74.13869885, 96.36442731, 15.30577868,\n",
       "       88.36702966, 28.48588609,  3.57621221, 26.90339577, 28.32203534,\n",
       "       74.56718086, 94.23219784, 61.82144931, 12.1692596 , 23.9261472 ,\n",
       "       42.23895035, 85.80359362, 84.31289823, 63.70548039, 94.7192766 ,\n",
       "       75.82739928, 94.05479106, 81.06593372, 85.71596228, 47.72799942,\n",
       "        6.82410274,  1.90403288, 14.02741314, 87.62918073, 12.75590043,\n",
       "       22.94437879, 56.86633935, 97.4997319 , 87.47318425, 11.11998288,\n",
       "       15.52764393, 22.46757395, 62.02565298, 88.31404443, 30.89621257,\n",
       "        3.0604465 , 20.11417345, 22.59325481, 43.52688811, 30.93764424,\n",
       "       81.8043257 , 14.64113716, 33.11696142, 33.93019622, 46.15975289,\n",
       "       41.71100849, 26.14099067, 62.81840715, 91.72005485, 95.62381701,\n",
       "       91.61917683, 51.49956061, 32.6378261 , 56.07591848, 61.56870262,\n",
       "       80.09531223, 12.57434523, 85.04484895, 41.43064636, 44.34214658,\n",
       "       13.49726229, 27.1972046 , 85.36831963,  1.00675603, 81.08109646,\n",
       "       77.69608604, 48.37345724, 98.35653268, 31.59682574, 31.96401997,\n",
       "       37.80430921, 11.3946099 , 23.50339635, 78.58336422, 32.80102049,\n",
       "       23.04141188, 87.32567716,  5.32990106, 43.44181715, 63.43130171,\n",
       "        8.22083495, 40.60183448, 55.78665036, 85.27000865, 55.78785831,\n",
       "        8.89676223, 22.04375828, 95.7382691 , 64.98109944, 10.50072146,\n",
       "       67.47131828, 87.45445148, 50.93723093, 89.96054277, 92.19091037,\n",
       "       13.89836687,  2.15748312, 90.90496138, 40.46036564,  3.93888799,\n",
       "       96.19696297, 77.52520547, 16.91846842,  1.27575729, 20.47837212,\n",
       "       73.64922382, 59.91500979, 67.11652729, 42.01729553, 59.70025874,\n",
       "       25.41771369,  3.78379814, 92.88039274, 48.86950128, 15.29155712,\n",
       "       79.70490261, 15.64212773, 86.82337416, 18.55903633, 33.65813181,\n",
       "       95.92544944, 36.79807075, 56.30066484, 35.73626166, 89.85337717,\n",
       "        8.90953364, 91.13440178, 29.45223828, 80.22767865, 75.8904792 ,\n",
       "       34.13934349, 25.29657539, 39.03982826, 76.55103974, 31.33961394,\n",
       "       11.42101809, 49.83595378,  6.17642554, 81.3393733 , 36.08991552,\n",
       "       69.91736536, 36.78701273, 11.01874069, 84.03965554, 51.20688965,\n",
       "        6.85819014, 40.78131831, 79.09164265, 61.08729473, 65.13976711,\n",
       "       97.40192336, 91.11836194, 42.15827016, 30.65262811, 16.42177671,\n",
       "       65.48061733, 29.14515088, 34.86382326, 40.61698726, 98.84834049,\n",
       "       92.28329395, 47.79218802, 43.33814953, 17.93665889, 35.58274382,\n",
       "       27.89868939, 15.05695986, 48.2223362 , 85.31418216, 38.23539019,\n",
       "       67.2799248 , 68.55822355, 23.33174568, 20.30115201, 82.7223813 ,\n",
       "       38.34627937, 13.38682223, 83.57636434, 84.21490614, 40.46504831,\n",
       "       20.47408953, 34.98879862,  9.89233207, 19.33812322, 57.51219202,\n",
       "       50.49061719, 68.019309  , 30.46865091, 78.4698811 ,  8.03988986,\n",
       "        2.06425845, 44.11457061, 44.08323641, 48.48778739, 16.97495461,\n",
       "       74.64837858, 60.01830892,  3.98434655, 25.86718182, 14.62092517,\n",
       "       77.24949887, 33.28445755, 61.93216026, 30.61408993, 90.52476388,\n",
       "       64.49492421, 89.82763542, 12.66952911, 97.48179265, 76.67849483,\n",
       "       24.29901788, 76.18591888, 35.63534513, 94.70454254,  2.54197363,\n",
       "       62.09109215, 92.02955393, 81.57128174, 53.91018807, 72.90926828,\n",
       "       94.69331451,  4.83090562, 30.45494876,  2.49196486, 77.43999649,\n",
       "       14.68142091, 74.40260443, 98.7515807 , 68.93509967, 40.58718515,\n",
       "       76.7150435 , 98.43183282, 37.05115569,  5.38714996, 90.25938961,\n",
       "       82.97573679, 15.92625648, 74.74134265, 63.39393257,  7.12276595,\n",
       "       60.38295248, 38.28428562, 87.42964173, 38.00208032, 28.14886994,\n",
       "       14.58071626, 31.58516022, 56.72400828,  5.36955947, 32.73703197,\n",
       "       94.34834106, 34.83170174, 61.60284824, 24.61033601,  9.46502638,\n",
       "       82.52257565, 75.42012142, 33.7483912 , 23.72785316, 23.31833272,\n",
       "       37.36233741, 26.94404687, 88.54453456, 86.31308061, 29.82981304,\n",
       "       36.57088885, 56.13152113, 99.22228958, 38.44925318, 51.36219584,\n",
       "       44.56193109, 64.73227298, 79.78384821, 11.58427711, 69.56391105,\n",
       "       28.78562222, 37.02289202, 82.16777652, 11.61894173, 38.66140442,\n",
       "       91.75014348,  2.09275042, 53.4076292 , 26.54245625, 14.07480062,\n",
       "       25.66932629, 82.47216905, 42.67504412, 55.85065293, 55.08261383,\n",
       "       71.18359251, 72.80278388, 23.98172407, 80.68127467, 53.49240971,\n",
       "       52.99712704,  5.34811122, 72.73369864, 31.93927926, 84.88499256,\n",
       "       83.9899269 , 80.39503646, 37.79627823, 78.40082278, 23.84233641,\n",
       "       49.74058258, 32.16055212, 69.61261537, 71.25030314, 13.16850009,\n",
       "       90.23260744, 91.81715671, 44.06436517, 93.90346196, 21.81051351,\n",
       "       86.53351089, 93.32768338, 69.64439122,  9.36384469, 49.69179967,\n",
       "       57.03297696, 28.10792978, 29.49970433, 81.01246695,  5.694472  ,\n",
       "       74.38917072, 67.94448735, 78.87021483, 16.32291852, 17.24410848,\n",
       "       25.985596  , 85.25394742, 92.87905613, 59.99321072, 14.30614614,\n",
       "       61.5424866 , 68.34550709, 42.9734851 , 27.67748275,  2.4438724 ,\n",
       "       99.07890953, 22.03208997, 22.93821027, 67.42605617, 35.23186436,\n",
       "       16.14392648, 33.10801814, 81.73153164, 35.25383891, 48.82345847,\n",
       "       84.757599  , 41.72209399, 55.83709509, 36.7571825 , 36.48790629,\n",
       "       90.30667582, 88.48041092, 87.61621473, 67.02788879,  5.85476901,\n",
       "       67.22924873, 12.09746792, 18.97429771, 57.83426277, 25.07159394,\n",
       "       45.57751098, 85.3222978 , 50.87406635, 99.25757304,  9.36134471,\n",
       "       83.33202517, 34.92133601, 63.8768361 , 46.52396294, 67.40602337,\n",
       "       25.15217512, 70.42351861, 99.16555851, 10.8064374 , 10.71596456,\n",
       "        8.13965785, 67.50126761, 26.65683789, 77.32030934, 65.29500414,\n",
       "        1.73864454, 47.23290483, 57.9698005 , 74.41032893,  1.43935604,\n",
       "       74.66253119, 44.63757522, 14.01370269, 50.12962663, 58.80597571,\n",
       "       98.08354498, 72.73582175, 32.41990434, 74.82849913, 33.77384834,\n",
       "       84.32431279, 82.22901461, 89.77093166, 12.95183416, 19.85086942,\n",
       "       12.92178336, 64.3100768 ,  9.9089234 , 48.0504152 , 30.29784758,\n",
       "       86.46375201, 79.70147433, 24.27015489, 64.67682446, 57.43295451,\n",
       "        1.58055045, 50.53734558, 63.09142173, 27.32393539, 99.61946879,\n",
       "       84.80333084, 97.2898991 , 68.28242484, 54.62958269, 93.92755976,\n",
       "       32.45592933, 19.94750141, 38.49773403, 88.94294178, 75.98688226,\n",
       "       13.44006946, 99.95116822,  7.98207898, 73.4997556 , 54.5694306 ,\n",
       "       21.72085085, 96.44521297, 99.99431648, 55.33968024, 31.5590573 ,\n",
       "       91.01722695, 56.15138399, 80.69683565,  5.9776807 , 65.14130437,\n",
       "       12.78177154, 42.97014876, 14.4159754 , 78.81940956, 92.49196603,\n",
       "       65.74351467, 20.9871    , 84.55781886, 20.81814297, 87.28077573,\n",
       "       88.94881898, 43.89088869, 45.75939115,  8.02206786, 85.54844209,\n",
       "       45.14860014, 61.21370384, 62.31975313, 76.94344553, 40.90477894,\n",
       "       61.2643547 , 93.17730816, 99.81543786,  8.09225879, 83.54471371,\n",
       "       20.76540927, 38.65764981,  6.84252692, 18.98687279, 49.85051777,\n",
       "       79.19868474, 98.00106883, 60.66434425, 61.94856344, 74.86799963])"
      ]
     },
     "execution_count": 57,
     "metadata": {},
     "output_type": "execute_result"
    }
   ],
   "source": [
    "a4 = np.random.rand(1000)*99 + 1\n",
    "a4"
   ]
  },
  {
   "cell_type": "code",
   "execution_count": 60,
   "metadata": {},
   "outputs": [
    {
     "data": {
      "text/plain": [
       "(array([37., 48., 58., 51., 50., 46., 54., 56., 50., 50., 38., 45., 56.,\n",
       "        64., 44., 49., 50., 57., 54., 43.]),\n",
       " array([  0.,   5.,  10.,  15.,  20.,  25.,  30.,  35.,  40.,  45.,  50.,\n",
       "         55.,  60.,  65.,  70.,  75.,  80.,  85.,  90.,  95., 100.]),\n",
       " <BarContainer object of 20 artists>)"
      ]
     },
     "execution_count": 60,
     "metadata": {},
     "output_type": "execute_result"
    },
    {
     "data": {
      "image/png": "[encoded data removed]",
      "text/plain": [
       "<Figure size 640x480 with 1 Axes>"
      ]
     },
     "metadata": {},
     "output_type": "display_data"
    }
   ],
   "source": [
    "plt.hist(a4, bins=20, range=(0,100))"
   ]
  },
  {
   "cell_type": "code",
   "execution_count": 67,
   "metadata": {},
   "outputs": [
    {
     "data": {
      "text/plain": [
       "(array([[147., 155., 155., 163., 142., 144.,  94.,   0.,   0.,   0.,   0.,\n",
       "           0.,   0.,   0.,   0.,   0.,   0.,   0.,   0.,   0.],\n",
       "        [ 78.,  72.,  76.,  69.,  90.,  69.,  63.,  92.,  77.,  71.,  70.,\n",
       "          75.,  75.,  23.,   0.,   0.,   0.,   0.,   0.,   0.],\n",
       "        [ 48.,  51.,  43.,  44.,  50.,  44.,  47.,  50.,  42.,  56.,  45.,\n",
       "          49.,  57.,  58.,  52.,  53.,  39.,  60.,  49.,  63.]]),\n",
       " array([6.91396464e-04, 1.50406452e-01, 3.00121507e-01, 4.49836563e-01,\n",
       "        5.99551618e-01, 7.49266674e-01, 8.98981729e-01, 1.04869678e+00,\n",
       "        1.19841184e+00, 1.34812690e+00, 1.49784195e+00, 1.64755701e+00,\n",
       "        1.79727206e+00, 1.94698712e+00, 2.09670217e+00, 2.24641723e+00,\n",
       "        2.39613228e+00, 2.54584734e+00, 2.69556240e+00, 2.84527745e+00,\n",
       "        2.99499251e+00]),\n",
       " <a list of 3 BarContainer objects>)"
      ]
     },
     "execution_count": 67,
     "metadata": {},
     "output_type": "execute_result"
    },
    {
     "data": {
      "image/png": "[encoded data removed]",
      "text/plain": [
       "<Figure size 640x480 with 1 Axes>"
      ]
     },
     "metadata": {},
     "output_type": "display_data"
    }
   ],
   "source": [
    "plt.hist(np.random.rand(1000,3)*[1,2,3],bins=20)"
   ]
  },
  {
   "cell_type": "code",
   "execution_count": null,
   "metadata": {},
   "outputs": [],
   "source": [
    "plt.show()"
   ]
  },
  {
   "cell_type": "code",
   "execution_count": 69,
   "metadata": {},
   "outputs": [
    {
     "data": {
      "text/plain": [
       "array([[26, 72, 31, 72, 53, 55, 84, 77,  1, 96],\n",
       "       [65, 29, 35, 20, 18, 44, 67, 84, 65, 83],\n",
       "       [36, 57,  4, 58, 82, 43,  1, 76, 53, 57],\n",
       "       [83, 85, 84, 79, 79, 36,  2, 65, 78, 18],\n",
       "       [89, 63, 82, 24, 91, 63, 95, 13, 43,  6],\n",
       "       [ 2, 64,  9, 74, 94, 21, 39, 78, 59,  0],\n",
       "       [83, 46, 45, 10, 26, 35, 52, 39, 63, 48],\n",
       "       [ 5, 53, 98, 95, 51, 95, 19, 76, 71, 43],\n",
       "       [88, 70, 96, 80, 55, 82, 25, 84, 75, 23],\n",
       "       [56, 20,  5, 27, 63, 19, 12, 41, 35, 59]])"
      ]
     },
     "execution_count": 69,
     "metadata": {},
     "output_type": "execute_result"
    }
   ],
   "source": [
    "np.random.randint(0,100,size=(10,10))"
   ]
  },
  {
   "cell_type": "code",
   "execution_count": 77,
   "metadata": {},
   "outputs": [
    {
     "data": {
      "text/plain": [
       "(array([[109.,  92.,  95., 112., 108.,  95.,  89., 104.,  95., 101.],\n",
       "        [ 89., 100.,  99., 121.,  91.,  94., 113., 114.,  88.,  91.]]),\n",
       " array([0. , 0.9, 1.8, 2.7, 3.6, 4.5, 5.4, 6.3, 7.2, 8.1, 9. ]),\n",
       " <a list of 2 BarContainer objects>)"
      ]
     },
     "execution_count": 77,
     "metadata": {},
     "output_type": "execute_result"
    },
    {
     "data": {
      "image/png": "[encoded data removed]",
      "text/plain": [
       "<Figure size 640x480 with 1 Axes>"
      ]
     },
     "metadata": {},
     "output_type": "display_data"
    }
   ],
   "source": [
    "plt.hist(np.random.randint(0,10,size=(1000,2)))"
   ]
  },
  {
   "cell_type": "code",
   "execution_count": 73,
   "metadata": {},
   "outputs": [
    {
     "data": {
      "text/plain": [
       "(256, (16, 16), 16)"
      ]
     },
     "execution_count": 73,
     "metadata": {},
     "output_type": "execute_result"
    }
   ],
   "source": [
    "a3.size, a3.shape, len(a3)"
   ]
  },
  {
   "cell_type": "code",
   "execution_count": 79,
   "metadata": {},
   "outputs": [
    {
     "data": {
      "text/plain": [
       "array([[ 0.87408696,  1.30443253],\n",
       "       [-1.5954359 , -0.13404508],\n",
       "       [ 1.74143763, -1.15320038],\n",
       "       ...,\n",
       "       [ 1.33479801,  0.02135564],\n",
       "       [-0.00333742,  0.52589057],\n",
       "       [-1.31972994, -1.33264347]])"
      ]
     },
     "execution_count": 79,
     "metadata": {},
     "output_type": "execute_result"
    }
   ],
   "source": [
    "np.random.randn(1000,2)"
   ]
  },
  {
   "cell_type": "code",
   "execution_count": 85,
   "metadata": {},
   "outputs": [
    {
     "data": {
      "text/plain": [
       "(array([[  1.,   2.,   4.,   9.,  12.,  21.,  42.,  48.,  74.,  95., 127.,\n",
       "         118., 110.,  90.,  83.,  74.,  38.,  22.,  14.,  12.,   1.,   3.,\n",
       "           0.,   0.,   0.,   0.,   0.,   0.,   0.,   0.,   0.,   0.,   0.,\n",
       "           0.,   0.,   0.,   0.,   0.,   0.,   0.,   0.,   0.,   0.,   0.,\n",
       "           0.,   0.,   0.,   0.,   0.,   0.],\n",
       "        [  0.,   0.,   0.,   0.,   0.,   0.,   0.,   1.,   1.,   1.,   1.,\n",
       "           3.,   4.,   3.,   9.,   7.,   7.,  18.,  17.,  27.,  34.,  33.,\n",
       "          51.,  36.,  52.,  48.,  59.,  62.,  62.,  58.,  56.,  48.,  58.,\n",
       "          39.,  37.,  33.,  24.,  28.,  23.,  16.,  10.,  11.,   6.,   5.,\n",
       "           5.,   3.,   1.,   1.,   0.,   2.]]),\n",
       " array([-3.5487401 , -3.24553763, -2.94233515, -2.63913268, -2.33593021,\n",
       "        -2.03272774, -1.72952527, -1.42632279, -1.12312032, -0.81991785,\n",
       "        -0.51671538, -0.2135129 ,  0.08968957,  0.39289204,  0.69609451,\n",
       "         0.99929698,  1.30249946,  1.60570193,  1.9089044 ,  2.21210687,\n",
       "         2.51530934,  2.81851182,  3.12171429,  3.42491676,  3.72811923,\n",
       "         4.03132171,  4.33452418,  4.63772665,  4.94092912,  5.24413159,\n",
       "         5.54733407,  5.85053654,  6.15373901,  6.45694148,  6.76014396,\n",
       "         7.06334643,  7.3665489 ,  7.66975137,  7.97295384,  8.27615632,\n",
       "         8.57935879,  8.88256126,  9.18576373,  9.48896621,  9.79216868,\n",
       "        10.09537115, 10.39857362, 10.70177609, 11.00497857, 11.30818104,\n",
       "        11.61138351]),\n",
       " <a list of 2 BarContainer objects>)"
      ]
     },
     "execution_count": 85,
     "metadata": {},
     "output_type": "execute_result"
    },
    {
     "data": {
      "image/png": "[encoded data removed]",
      "text/plain": [
       "<Figure size 640x480 with 1 Axes>"
      ]
     },
     "metadata": {},
     "output_type": "display_data"
    }
   ],
   "source": [
    "plt.hist(np.random.randn(1000,2)*[1,2]+[0,5],bins=50)"
   ]
  },
  {
   "cell_type": "markdown",
   "metadata": {},
   "source": [
    "## homework"
   ]
  },
  {
   "cell_type": "code",
   "execution_count": 2,
   "metadata": {},
   "outputs": [
    {
     "name": "stdout",
     "output_type": "stream",
     "text": [
      "输入不正确\n"
     ]
    }
   ],
   "source": [
    "def judge_creditID():\n",
    "    ID=input(\"请输入身份证号:\")\n",
    "    if len(ID)==18:\n",
    "        print(\"您的身份证号是:\"+ID)\n",
    "    else:\n",
    "        print(\"输入不正确\")\n",
    "        return\n",
    "    year=ID[6:10]\n",
    "    moon=ID[10:12]\n",
    "    day=ID[12:14]\n",
    "\n",
    "    print(\"出生于\"+year+\"年\"+moon+\"月\"+day+\"日\")\n",
    "    import datetime\n",
    "    today=datetime.date.today()\n",
    "    age=int(today.year)-int(year)\n",
    "    print(\"今年{}岁\".format(age))\n",
    "    xingbie=int(ID[16])\n",
    "    if xingbie%2==0:\n",
    "        print(\"性别为女\")\n",
    "    else:\n",
    "        print(\"性别为男\")\n",
    "\n",
    "judge_creditID()"
   ]
  },
  {
   "cell_type": "code",
   "execution_count": null,
   "metadata": {},
   "outputs": [],
   "source": [
    "int"
   ]
  },
  {
   "cell_type": "code",
   "execution_count": 5,
   "metadata": {},
   "outputs": [
    {
     "data": {
      "text/plain": [
       "array([1, 3, 5, 1], dtype=int16)"
      ]
     },
     "execution_count": 5,
     "metadata": {},
     "output_type": "execute_result"
    }
   ],
   "source": [
    "t1 = [1,3,5,'1']\n",
    "t2 =  np.array(t1)\n",
    "t2.astype(np.int16)"
   ]
  },
  {
   "cell_type": "code",
   "execution_count": 7,
   "metadata": {},
   "outputs": [
    {
     "data": {
      "text/plain": [
       "array([1, 3, 5, 1], dtype=int16)"
      ]
     },
     "execution_count": 7,
     "metadata": {},
     "output_type": "execute_result"
    }
   ],
   "source": [
    "np.array(t1, dtype=np.int16)"
   ]
  },
  {
   "cell_type": "code",
   "execution_count": 14,
   "metadata": {},
   "outputs": [
    {
     "data": {
      "text/plain": [
       "array(65535, dtype=uint16)"
      ]
     },
     "execution_count": 14,
     "metadata": {},
     "output_type": "execute_result"
    }
   ],
   "source": [
    "t3 = 65535\n",
    "t3 = np.array(t3)\n",
    "t3.astype(np.int32)\n",
    "t3.astype(np.uint16)"
   ]
  },
  {
   "cell_type": "code",
   "execution_count": 15,
   "metadata": {},
   "outputs": [
    {
     "data": {
      "text/plain": [
       "65536"
      ]
     },
     "execution_count": 15,
     "metadata": {},
     "output_type": "execute_result"
    }
   ],
   "source": [
    "2**16"
   ]
  },
  {
   "cell_type": "code",
   "execution_count": 19,
   "metadata": {},
   "outputs": [
    {
     "data": {
      "text/plain": [
       "[1, 2]"
      ]
     },
     "execution_count": 19,
     "metadata": {},
     "output_type": "execute_result"
    }
   ],
   "source": [
    "[1] + [2]"
   ]
  },
  {
   "cell_type": "code",
   "execution_count": 17,
   "metadata": {},
   "outputs": [
    {
     "data": {
      "text/plain": [
       "[1, 2, 1, 2, 1, 2, 1, 2, 1, 2, 1, 2, 1, 2, 1, 2, 1, 2, 1, 2]"
      ]
     },
     "execution_count": 17,
     "metadata": {},
     "output_type": "execute_result"
    }
   ],
   "source": [
    "[1,2]*10"
   ]
  },
  {
   "cell_type": "code",
   "execution_count": 18,
   "metadata": {},
   "outputs": [
    {
     "data": {
      "text/plain": [
       "array([10])"
      ]
     },
     "execution_count": 18,
     "metadata": {},
     "output_type": "execute_result"
    }
   ],
   "source": [
    "np.array([1])*10"
   ]
  },
  {
   "cell_type": "code",
   "execution_count": 21,
   "metadata": {},
   "outputs": [
    {
     "data": {
      "text/plain": [
       "(array([[100., 100., 100., 100., 100.],\n",
       "        [100., 100., 100., 100., 100.]]),\n",
       " array([[0., 0., 0., 0., 0.],\n",
       "        [0., 0., 0., 0., 0.]]))"
      ]
     },
     "execution_count": 21,
     "metadata": {},
     "output_type": "execute_result"
    }
   ],
   "source": [
    "t4 = np.ones((5,2))*100\n",
    "t4 = t4.T\n",
    "t5 = np.zeros_like(t4)\n",
    "np.zeros(t4.shape)\n",
    "t4,t5"
   ]
  }
 ],
 "metadata": {
  "kernelspec": {
   "display_name": "ntorch",
   "language": "python",
   "name": "python3"
  },
  "language_info": {
   "codemirror_mode": {
    "name": "ipython",
    "version": 3
   },
   "file_extension": ".py",
   "mimetype": "text/x-python",
   "name": "python",
   "nbconvert_exporter": "python",
   "pygments_lexer": "ipython3",
   "version": "3.9.19"
  }
 },
 "nbformat": 4,
 "nbformat_minor": 2
}
