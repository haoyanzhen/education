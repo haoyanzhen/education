{
 "cells": [
  {
   "cell_type": "markdown",
   "metadata": {},
   "source": [
    "# 数值积分与数值拟合\n",
    "\n",
    "Author: haoyanzhen\n",
    "Date: 2024-12-27\n",
    "\n",
    "数值方法是一套使用计算机进行数值求解的方法，以其快速、准确、可解非解析方程等优势得到广泛应用。\n",
    "\n",
    "## 数值积分\n",
    "\n",
    "数值积分是一种用于求解函数定积分的数值方法，主要用于难以找到解析解的情况。\n",
    "\n",
    "```python\n",
    "from scipy.integrate import quad\n",
    "import numpy as np\n",
    "\n",
    "# 定义被积函数\n",
    "def f(x):\n",
    "    return np.exp(-x**2)\n",
    "\n",
    "# 计算定积分\n",
    "result, error = quad(f, 0, 1)\n",
    "print(\"积分结果：\", result)\n",
    "print(\"估计误差：\", error)\n",
    "```\n",
    "\n",
    "```python\n",
    "from scipy.integrate import simps\n",
    "import numpy as np\n",
    "\n",
    "# 定义离散点及被积函数\n",
    "x = np.linspace(0, 1, 100) # 在0到1之间创建100个点\n",
    "y = np.exp(-x**2) # 计算这些点上的函数值\n",
    "\n",
    "# 使用Simpson规则进行积分\n",
    "result = simps(y, x)\n",
    "print(\"积分结果：\", result)\n",
    "```"
   ]
  },
  {
   "cell_type": "code",
   "execution_count": 6,
   "metadata": {},
   "outputs": [
    {
     "name": "stdout",
     "output_type": "stream",
     "text": [
      "8.75651076269652e-27 4.248354255291589e-18\n"
     ]
    },
    {
     "data": {
      "text/plain": [
       "0.24197072451914337"
      ]
     },
     "execution_count": 6,
     "metadata": {},
     "output_type": "execute_result"
    }
   ],
   "source": [
    "from scipy.integrate import quad\n",
    "import numpy as np\n",
    "\n",
    "# 定义被积函数\n",
    "def f(x):\n",
    "    return np.exp(-0.5 * x**2+x)\n",
    "\n",
    "# 计算定积分\n",
    "print(f(-10),f(10))\n",
    "result, error = quad(f, -10, 20)\n",
    "1/result"
   ]
  },
  {
   "cell_type": "markdown",
   "metadata": {},
   "source": [
    "## 数值拟合\n",
    "\n",
    "数值拟合是一种用于根据已知数据点来估计未知数据点的方法。通过拟合，可以找到一条最能代表数据趋势的曲线。"
   ]
  },
  {
   "cell_type": "markdown",
   "metadata": {},
   "source": [
    "### 一阶拟合"
   ]
  },
  {
   "cell_type": "code",
   "execution_count": null,
   "metadata": {},
   "outputs": [],
   "source": [
    "import numpy as np\n",
    "import matplotlib.pyplot as plt\n",
    "\n",
    "# 准备数据点\n",
    "x = np.array([1, 2, 3, 4, 5])\n",
    "y = np.array([2, 4, 5, 4, 5])\n",
    "\n",
    "# 进行多项式拟合，这里我们拟合一个1阶多项式（即线性拟合）\n",
    "coefficients = np.polyfit(x, y, 1)\n",
    "# 根据拟合系数创建多项式函数\n",
    "polynomial = np.poly1d(coefficients)\n",
    "\n",
    "# 打印拟合的多项式函数\n",
    "print(\"拟合的多项式函数：\", polynomial)\n",
    "\n",
    "# 绘制原始数据点和拟合曲线\n",
    "plt.scatter(x, y, label='原始数据点')\n",
    "plt.plot(x, polynomial(x), label='拟合曲线', color='red')\n",
    "plt.legend()\n",
    "plt.show()\n"
   ]
  },
  {
   "cell_type": "markdown",
   "metadata": {},
   "source": [
    "### 任意函数拟合"
   ]
  },
  {
   "cell_type": "code",
   "execution_count": 10,
   "metadata": {},
   "outputs": [
    {
     "name": "stdout",
     "output_type": "stream",
     "text": [
      "拟合参数： [6.39552172 0.67168446 2.75063916]\n"
     ]
    },
    {
     "data": {
      "image/png": "[encoded data removed]",
      "text/plain": [
       "<Figure size 640x480 with 1 Axes>"
      ]
     },
     "metadata": {},
     "output_type": "display_data"
    }
   ],
   "source": [
    "import numpy as np\n",
    "import matplotlib.pyplot as plt\n",
    "from scipy.optimize import curve_fit\n",
    "\n",
    "# 定义一个拟合函数，例如指数函数\n",
    "def exp_func(x, a, b, c):\n",
    "    return a * np.exp(-b * x) + c\n",
    "\n",
    "# 准备数据点\n",
    "x_data = np.array([1, 2, 3, 4, 5])\n",
    "y_data = np.array([6.0, 4.5, 3.5, 3.2, 3.0])\n",
    "\n",
    "# 使用curve_fit进行拟合\n",
    "popt, pcov = curve_fit(exp_func, x_data, y_data)\n",
    "\n",
    "# 根据拟合参数创建拟合曲线\n",
    "y_fit = exp_func(x_data, *popt)\n",
    "\n",
    "# 打印拟合参数\n",
    "print(\"拟合参数：\", popt)\n",
    "\n",
    "# 绘制原始数据点和拟合曲线\n",
    "plt.scatter(x_data, y_data, label='data')\n",
    "plt.plot(x_data, y_fit, label='fit', color='red')\n",
    "plt.legend()\n",
    "plt.show()\n"
   ]
  }
 ],
 "metadata": {
  "kernelspec": {
   "display_name": "others",
   "language": "python",
   "name": "python3"
  },
  "language_info": {
   "codemirror_mode": {
    "name": "ipython",
    "version": 3
   },
   "file_extension": ".py",
   "mimetype": "text/x-python",
   "name": "python",
   "nbconvert_exporter": "python",
   "pygments_lexer": "ipython3",
   "version": "3.9.19"
  }
 },
 "nbformat": 4,
 "nbformat_minor": 2
}
