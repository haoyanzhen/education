{
 "cells": [
  {
   "cell_type": "markdown",
   "metadata": {},
   "source": [
    "# matplotlib互动和文档查询"
   ]
  },
  {
   "cell_type": "markdown",
   "metadata": {},
   "source": [
    "## txt文件读取"
   ]
  },
  {
   "cell_type": "code",
   "execution_count": 18,
   "metadata": {},
   "outputs": [
    {
     "data": {
      "text/plain": [
       "(<_io.TextIOWrapper name='E:\\\\work\\\\education\\\\Python-li\\\\test005.txt' mode='r' encoding='UTF-8'>,\n",
       " ['0 1\\n', '1 2'])"
      ]
     },
     "execution_count": 18,
     "metadata": {},
     "output_type": "execute_result"
    }
   ],
   "source": [
    "with open(r\"E:\\work\\education\\Python-li\\test005.txt\") as f1:\n",
    "    content = f1.readlines()\n",
    "\n",
    "f1, content"
   ]
  },
  {
   "cell_type": "code",
   "execution_count": 14,
   "metadata": {},
   "outputs": [
    {
     "data": {
      "text/plain": [
       "<_io.TextIOWrapper name='E:\\\\work\\\\education\\\\Python-li\\\\test005.txt' mode='r' encoding='UTF-8'>"
      ]
     },
     "execution_count": 14,
     "metadata": {},
     "output_type": "execute_result"
    }
   ],
   "source": [
    "f2 = open(r\"E:\\work\\education\\Python-li\\test005.txt\")\n",
    "pass\n",
    "f2.close()\n",
    "\n",
    "\n",
    "f2"
   ]
  },
  {
   "cell_type": "markdown",
   "metadata": {},
   "source": [
    "## 网络表格下载"
   ]
  },
  {
   "cell_type": "code",
   "execution_count": 1,
   "metadata": {},
   "outputs": [
    {
     "name": "stderr",
     "output_type": "stream",
     "text": [
      "C:\\Users\\fight\\AppData\\Local\\Temp\\ipykernel_23740\\2865223785.py:3: FutureWarning: Passing literal html to 'read_html' is deprecated and will be removed in a future version. To read from a literal string, wrap it in a 'StringIO' object.\n",
      "  d1 = pd.read_html(r'<table width=\"84%!important\" border=\"1px\" cellspacing=\"0px\" style=\"margin: 0 0px 10px 0px;font-size: small;\"><tbody><tr><td width=\"190.0\" align=\"center\" valign=\"middle\">年份</td><td width=\"190.0\" align=\"center\" valign=\"middle\">报考人数（单位：万人）</td><td width=\"190.0\" align=\"center\" valign=\"middle\">增长率</td></tr><tr><td width=\"190.0\" align=\"center\" valign=\"middle\">2024</td><td width=\"190.0\" align=\"center\" valign=\"middle\">438</td><td width=\"190.0\" align=\"center\" valign=\"middle\">-7.59%</td></tr><tr><td width=\"190.0\" align=\"center\" valign=\"middle\">2023</td><td width=\"190.0\" align=\"center\" valign=\"middle\">474</td><td width=\"190.0\" align=\"center\" valign=\"middle\">3.72%</td></tr><tr><td width=\"190.0\" align=\"center\" valign=\"middle\">2022</td><td width=\"190.0\" align=\"center\" valign=\"middle\">457</td><td width=\"190.0\" align=\"center\" valign=\"middle\">21.22%</td></tr><tr><td width=\"190.0\" align=\"center\" valign=\"middle\">2021</td><td width=\"190.0\" align=\"center\" valign=\"middle\">377</td><td width=\"190.0\" align=\"center\" valign=\"middle\">10.56%</td></tr><tr><td width=\"190.0\" align=\"center\" valign=\"middle\">2020</td><td width=\"190.0\" align=\"center\" valign=\"middle\">341</td><td width=\"190.0\" align=\"center\" valign=\"middle\">17.59%</td></tr><tr><td width=\"190.0\" align=\"center\" valign=\"middle\">2019</td><td width=\"190.0\" align=\"center\" valign=\"middle\">290</td><td width=\"190.0\" align=\"center\" valign=\"middle\">21.85%</td></tr><tr><td width=\"190.0\" align=\"center\" valign=\"middle\">2018</td><td width=\"190.0\" align=\"center\" valign=\"middle\">238</td><td width=\"190.0\" align=\"center\" valign=\"middle\">18.41%</td></tr><tr><td width=\"190.0\" align=\"center\" valign=\"middle\">2017</td><td width=\"190.0\" align=\"center\" valign=\"middle\">201</td><td width=\"190.0\" align=\"center\" valign=\"middle\">13.56%</td></tr><tr><td width=\"190.0\" align=\"center\" valign=\"middle\">2016</td><td width=\"190.0\" align=\"center\" valign=\"middle\">177</td><td width=\"190.0\" align=\"center\" valign=\"middle\">7.27%</td></tr><tr><td width=\"190.0\" align=\"center\" valign=\"middle\">2015</td><td width=\"190.0\" align=\"center\" valign=\"middle\">164.9</td><td width=\"190.0\" align=\"center\" valign=\"middle\">-4.07%</td></tr><tr><td width=\"190.0\" align=\"center\" valign=\"middle\">2014</td><td width=\"190.0\" align=\"center\" valign=\"middle\">172</td><td width=\"190.0\" align=\"center\" valign=\"middle\">-2.27%</td></tr><tr><td width=\"190.0\" align=\"center\" valign=\"middle\">2013</td><td width=\"190.0\" align=\"center\" valign=\"middle\">176</td><td width=\"190.0\" align=\"center\" valign=\"middle\">6.28%</td></tr><tr><td width=\"190.0\" align=\"center\" valign=\"middle\">2012</td><td width=\"190.0\" align=\"center\" valign=\"middle\">165.6</td><td width=\"190.0\" align=\"center\" valign=\"middle\">9.60%</td></tr><tr><td width=\"190.0\" align=\"center\" valign=\"middle\">2011</td><td width=\"190.0\" align=\"center\" valign=\"middle\">151.1</td><td width=\"190.0\" align=\"center\" valign=\"middle\">7.47%</td></tr><tr><td width=\"190.0\" align=\"center\" valign=\"middle\">2010</td><td width=\"190.0\" align=\"center\" valign=\"middle\">140.6</td><td width=\"190.0\" align=\"center\" valign=\"middle\">12.84%</td></tr><tr><td width=\"190.0\" align=\"center\" valign=\"middle\">2009</td><td width=\"190.0\" align=\"center\" valign=\"middle\">124.6</td><td width=\"190.0\" align=\"center\" valign=\"middle\">3.83%</td></tr><tr><td width=\"190.0\" align=\"center\" valign=\"middle\">2008</td><td width=\"190.0\" align=\"center\" valign=\"middle\">120</td><td width=\"190.0\" align=\"center\" valign=\"middle\">-6.40%</td></tr><tr><td width=\"190.0\" align=\"center\" valign=\"middle\">2007</td><td width=\"190.0\" align=\"center\" valign=\"middle\">128.2</td><td width=\"190.0\" align=\"center\" valign=\"middle\">0.55%</td></tr><tr><td width=\"190.0\" align=\"center\" valign=\"middle\">2006</td><td width=\"190.0\" align=\"center\" valign=\"middle\">127.1</td><td width=\"190.0\" align=\"center\" valign=\"middle\">8.79%</td></tr><tr><td width=\"190.0\" align=\"center\" valign=\"middle\">2005</td><td width=\"190.0\" align=\"center\" valign=\"middle\">117.2</td><td width=\"190.0\" align=\"center\" valign=\"middle\">24.02%</td></tr></tbody></table>')\n"
     ]
    },
    {
     "data": {
      "text/plain": [
       "[       0            1       2\n",
       " 0     年份  报考人数（单位：万人）     增长率\n",
       " 1   2024          438  -7.59%\n",
       " 2   2023          474   3.72%\n",
       " 3   2022          457  21.22%\n",
       " 4   2021          377  10.56%\n",
       " 5   2020          341  17.59%\n",
       " 6   2019          290  21.85%\n",
       " 7   2018          238  18.41%\n",
       " 8   2017          201  13.56%\n",
       " 9   2016          177   7.27%\n",
       " 10  2015        164.9  -4.07%\n",
       " 11  2014          172  -2.27%\n",
       " 12  2013          176   6.28%\n",
       " 13  2012        165.6   9.60%\n",
       " 14  2011        151.1   7.47%\n",
       " 15  2010        140.6  12.84%\n",
       " 16  2009        124.6   3.83%\n",
       " 17  2008          120  -6.40%\n",
       " 18  2007        128.2   0.55%\n",
       " 19  2006        127.1   8.79%\n",
       " 20  2005        117.2  24.02%]"
      ]
     },
     "execution_count": 1,
     "metadata": {},
     "output_type": "execute_result"
    }
   ],
   "source": [
    "import pandas as pd\n",
    "\n",
    "d1 = pd.read_html(r'<table width=\"84%!important\" border=\"1px\" cellspacing=\"0px\" style=\"margin: 0 0px 10px 0px;font-size: small;\"><tbody><tr><td width=\"190.0\" align=\"center\" valign=\"middle\">年份</td><td width=\"190.0\" align=\"center\" valign=\"middle\">报考人数（单位：万人）</td><td width=\"190.0\" align=\"center\" valign=\"middle\">增长率</td></tr><tr><td width=\"190.0\" align=\"center\" valign=\"middle\">2024</td><td width=\"190.0\" align=\"center\" valign=\"middle\">438</td><td width=\"190.0\" align=\"center\" valign=\"middle\">-7.59%</td></tr><tr><td width=\"190.0\" align=\"center\" valign=\"middle\">2023</td><td width=\"190.0\" align=\"center\" valign=\"middle\">474</td><td width=\"190.0\" align=\"center\" valign=\"middle\">3.72%</td></tr><tr><td width=\"190.0\" align=\"center\" valign=\"middle\">2022</td><td width=\"190.0\" align=\"center\" valign=\"middle\">457</td><td width=\"190.0\" align=\"center\" valign=\"middle\">21.22%</td></tr><tr><td width=\"190.0\" align=\"center\" valign=\"middle\">2021</td><td width=\"190.0\" align=\"center\" valign=\"middle\">377</td><td width=\"190.0\" align=\"center\" valign=\"middle\">10.56%</td></tr><tr><td width=\"190.0\" align=\"center\" valign=\"middle\">2020</td><td width=\"190.0\" align=\"center\" valign=\"middle\">341</td><td width=\"190.0\" align=\"center\" valign=\"middle\">17.59%</td></tr><tr><td width=\"190.0\" align=\"center\" valign=\"middle\">2019</td><td width=\"190.0\" align=\"center\" valign=\"middle\">290</td><td width=\"190.0\" align=\"center\" valign=\"middle\">21.85%</td></tr><tr><td width=\"190.0\" align=\"center\" valign=\"middle\">2018</td><td width=\"190.0\" align=\"center\" valign=\"middle\">238</td><td width=\"190.0\" align=\"center\" valign=\"middle\">18.41%</td></tr><tr><td width=\"190.0\" align=\"center\" valign=\"middle\">2017</td><td width=\"190.0\" align=\"center\" valign=\"middle\">201</td><td width=\"190.0\" align=\"center\" valign=\"middle\">13.56%</td></tr><tr><td width=\"190.0\" align=\"center\" valign=\"middle\">2016</td><td width=\"190.0\" align=\"center\" valign=\"middle\">177</td><td width=\"190.0\" align=\"center\" valign=\"middle\">7.27%</td></tr><tr><td width=\"190.0\" align=\"center\" valign=\"middle\">2015</td><td width=\"190.0\" align=\"center\" valign=\"middle\">164.9</td><td width=\"190.0\" align=\"center\" valign=\"middle\">-4.07%</td></tr><tr><td width=\"190.0\" align=\"center\" valign=\"middle\">2014</td><td width=\"190.0\" align=\"center\" valign=\"middle\">172</td><td width=\"190.0\" align=\"center\" valign=\"middle\">-2.27%</td></tr><tr><td width=\"190.0\" align=\"center\" valign=\"middle\">2013</td><td width=\"190.0\" align=\"center\" valign=\"middle\">176</td><td width=\"190.0\" align=\"center\" valign=\"middle\">6.28%</td></tr><tr><td width=\"190.0\" align=\"center\" valign=\"middle\">2012</td><td width=\"190.0\" align=\"center\" valign=\"middle\">165.6</td><td width=\"190.0\" align=\"center\" valign=\"middle\">9.60%</td></tr><tr><td width=\"190.0\" align=\"center\" valign=\"middle\">2011</td><td width=\"190.0\" align=\"center\" valign=\"middle\">151.1</td><td width=\"190.0\" align=\"center\" valign=\"middle\">7.47%</td></tr><tr><td width=\"190.0\" align=\"center\" valign=\"middle\">2010</td><td width=\"190.0\" align=\"center\" valign=\"middle\">140.6</td><td width=\"190.0\" align=\"center\" valign=\"middle\">12.84%</td></tr><tr><td width=\"190.0\" align=\"center\" valign=\"middle\">2009</td><td width=\"190.0\" align=\"center\" valign=\"middle\">124.6</td><td width=\"190.0\" align=\"center\" valign=\"middle\">3.83%</td></tr><tr><td width=\"190.0\" align=\"center\" valign=\"middle\">2008</td><td width=\"190.0\" align=\"center\" valign=\"middle\">120</td><td width=\"190.0\" align=\"center\" valign=\"middle\">-6.40%</td></tr><tr><td width=\"190.0\" align=\"center\" valign=\"middle\">2007</td><td width=\"190.0\" align=\"center\" valign=\"middle\">128.2</td><td width=\"190.0\" align=\"center\" valign=\"middle\">0.55%</td></tr><tr><td width=\"190.0\" align=\"center\" valign=\"middle\">2006</td><td width=\"190.0\" align=\"center\" valign=\"middle\">127.1</td><td width=\"190.0\" align=\"center\" valign=\"middle\">8.79%</td></tr><tr><td width=\"190.0\" align=\"center\" valign=\"middle\">2005</td><td width=\"190.0\" align=\"center\" valign=\"middle\">117.2</td><td width=\"190.0\" align=\"center\" valign=\"middle\">24.02%</td></tr></tbody></table>')\n",
    "d1"
   ]
  },
  {
   "cell_type": "code",
   "execution_count": 4,
   "metadata": {},
   "outputs": [
    {
     "data": {
      "text/plain": [
       "pandas.core.frame.DataFrame"
      ]
     },
     "execution_count": 4,
     "metadata": {},
     "output_type": "execute_result"
    }
   ],
   "source": [
    "type(d1[0])"
   ]
  },
  {
   "cell_type": "code",
   "execution_count": 5,
   "metadata": {},
   "outputs": [
    {
     "data": {
      "text/plain": [
       "0     报考人数（单位：万人）\n",
       "1             438\n",
       "2             474\n",
       "3             457\n",
       "4             377\n",
       "5             341\n",
       "6             290\n",
       "7             238\n",
       "8             201\n",
       "9             177\n",
       "10          164.9\n",
       "11            172\n",
       "12            176\n",
       "13          165.6\n",
       "14          151.1\n",
       "15          140.6\n",
       "16          124.6\n",
       "17            120\n",
       "18          128.2\n",
       "19          127.1\n",
       "20          117.2\n",
       "Name: 1, dtype: object"
      ]
     },
     "execution_count": 5,
     "metadata": {},
     "output_type": "execute_result"
    }
   ],
   "source": [
    "d1[0].loc[:,1]"
   ]
  },
  {
   "cell_type": "code",
   "execution_count": 16,
   "metadata": {},
   "outputs": [],
   "source": [
    "d1[0].to_csv(\"test007.csv\")"
   ]
  },
  {
   "cell_type": "markdown",
   "metadata": {},
   "source": [
    "## 交互式绘图"
   ]
  },
  {
   "cell_type": "code",
   "execution_count": 15,
   "metadata": {},
   "outputs": [
    {
     "data": {
      "application/vnd.jupyter.widget-view+json": {
       "model_id": "45815a2a22934e5c9e7e5de589df358c",
       "version_major": 2,
       "version_minor": 0
      },
      "text/plain": [
       "interactive(children=(FloatSlider(value=1.0, description='mean', max=10.0), IntSlider(value=1, description='sc…"
      ]
     },
     "execution_count": 15,
     "metadata": {},
     "output_type": "execute_result"
    }
   ],
   "source": [
    "from matplotlib import pyplot as plt\n",
    "import numpy as np\n",
    "import ipywidgets as widgets\n",
    "from ipywidgets import interactive\n",
    "\n",
    "def active_paint(mean, scale, bins):\n",
    "    plt.hist(np.random.randn(10000)*scale + mean, bins=bins)\n",
    "\n",
    "slider_loc = widgets.FloatSlider(value=1, min=0, max=10)\n",
    "slider_scale = widgets.IntSlider(value=1, min=0, max=10, step=1)\n",
    "slider_bins = widgets.IntSlider(value=10, min=10, max=100, step=1)\n",
    "w=interactive(active_paint, mean=slider_loc, scale=slider_scale, bins=slider_bins)\n",
    "w"
   ]
  }
 ],
 "metadata": {
  "kernelspec": {
   "display_name": "ntorch",
   "language": "python",
   "name": "python3"
  },
  "language_info": {
   "codemirror_mode": {
    "name": "ipython",
    "version": 3
   },
   "file_extension": ".py",
   "mimetype": "text/x-python",
   "name": "python",
   "nbconvert_exporter": "python",
   "pygments_lexer": "ipython3",
   "version": "3.9.19"
  }
 },
 "nbformat": 4,
 "nbformat_minor": 2
}
